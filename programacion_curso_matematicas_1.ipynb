{
 "cells": [
  {
   "cell_type": "code",
   "execution_count": null,
   "metadata": {},
   "outputs": [],
   "source": []
  },
  {
   "cell_type": "markdown",
   "metadata": {},
   "source": [
    "# Plan del curso de matemáticas I\n",
    "\n"
   ]
  },
  {
   "cell_type": "markdown",
   "metadata": {},
   "source": []
  },
  {
   "cell_type": "markdown",
   "metadata": {},
   "source": [
    "# Evaluación\n",
    "\n",
    "Siempre se tomará asistencia al inicio y al final de la clase. \n",
    "No se permite asistir a otro curso en el horario de matemáticas I. El estudiante asume la responsabilidad de haberse atrazado. Las clase por meet son de obligatoria asistencia, por tanto, no se graban. \n",
    "\n",
    "|Actividad|Porcentaje|Semana|\n",
    "|---------|----------|------|\n",
    "|Parcial 1|20%|Semana 2|\n",
    "|Parcial 2|20%|Semana 3|\n",
    "|Parcial 3|20%|Semana 4|\n",
    "|Parcial 4|20%|Semana 5|\n",
    "|talleres por cada parcial|20%|el día de realización del parcial debe entregar el taller resuelto|"
   ]
  },
  {
   "cell_type": "markdown",
   "metadata": {},
   "source": [
    "admonregiones.fce@udea.edu.co\n",
    "[Facultad de ciencias económicas](https://www.udea.edu.co/wps/portal/udea/web/inicio/unidades-academicas/ciencias-economicas)"
   ]
  },
  {
   "cell_type": "markdown",
   "metadata": {},
   "source": [
    "# Vocabulary de hoy\n",
    "\n",
    "* outside: fuera o afuera. "
   ]
  },
  {
   "cell_type": "markdown",
   "metadata": {},
   "source": []
  }
 ],
 "metadata": {
  "kernelspec": {
   "display_name": ".venv",
   "language": "python",
   "name": "python3"
  },
  "language_info": {
   "codemirror_mode": {
    "name": "ipython",
    "version": 3
   },
   "file_extension": ".py",
   "mimetype": "text/x-python",
   "name": "python",
   "nbconvert_exporter": "python",
   "pygments_lexer": "ipython3",
   "version": "3.10.11"
  },
  "orig_nbformat": 4
 },
 "nbformat": 4,
 "nbformat_minor": 2
}
