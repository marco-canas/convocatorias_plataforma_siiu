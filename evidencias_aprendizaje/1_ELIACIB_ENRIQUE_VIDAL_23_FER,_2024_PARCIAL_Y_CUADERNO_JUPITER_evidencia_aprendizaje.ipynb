{
  "nbformat": 4,
  "nbformat_minor": 0,
  "metadata": {
    "colab": {
      "provenance": []
    },
    "kernelspec": {
      "name": "python3",
      "display_name": "Python 3"
    },
    "language_info": {
      "name": "python"
    }
  },
  "cells": [
    {
      "cell_type": "markdown",
      "source": [
        "\n",
        "1 Logica metematica\n",
        "\n",
        "Intervalos\n",
        "\n",
        "Recta numerica, recta real\n",
        "\n",
        "\n",
        "(a,b)  intervalos abiertos {x e R / a < x < 1}\n",
        "\n",
        "ejemplo:\n",
        "(0,1)  = {x e R / 0 < X < 1}  \n",
        "\n"
      ],
      "metadata": {
        "id": "DL9UTpyI7vdk"
      }
    },
    {
      "cell_type": "code",
      "source": [
        "# Ejecicio A: -3 < -15\n",
        "import numpy as np\n",
        "\n",
        "resultado = np.array(-3) < np.array(-15)\n",
        "print(resultado)\n",
        "\n",
        "# Falso, porque el -3 es una deuda menor que -15\n"
      ],
      "metadata": {
        "colab": {
          "base_uri": "https://localhost:8080/"
        },
        "id": "bEi-yNv_cxby",
        "outputId": "9b33e4f4-dbf4-4f6e-bb99-b2f52157688b"
      },
      "execution_count": null,
      "outputs": [
        {
          "output_type": "stream",
          "name": "stdout",
          "text": [
            "False\n"
          ]
        }
      ]
    },
    {
      "cell_type": "code",
      "source": [
        "# Ejecicio B: √2 > 1,41\n",
        "import numpy as np\n",
        "\n",
        "resultado = np.sqrt(2) > 1.41\n",
        "print(resultado)\n",
        "\n",
        "# Verdadero porque √2 tiene una cantidad mas alta de decimales que 1,41 que este solo cuenta con 2 decimales"
      ],
      "metadata": {
        "colab": {
          "base_uri": "https://localhost:8080/"
        },
        "id": "jAzZSRNIc-53",
        "outputId": "ba0f3c4e-f149-45a2-ec3f-0c2f987f93b8"
      },
      "execution_count": null,
      "outputs": [
        {
          "output_type": "stream",
          "name": "stdout",
          "text": [
            "True\n"
          ]
        }
      ]
    },
    {
      "cell_type": "code",
      "source": [
        "#Ejecicio C: 11/12 < 13/14\n",
        "\n",
        "import numpy as np\n",
        "\n",
        "# Representar las fracciones como arrays NumPy\n",
        "fraccion_1 = np.array([11/12])\n",
        "fraccion_2 = np.array([13/14])\n",
        "\n",
        "# Comparar las fracciones\n",
        "resultado = np.less(fraccion_1, fraccion_2)\n",
        "\n",
        "#  En este código, np.less() se utiliza para comparar elemento por elemento de los dos arrays NumPy\n",
        "\n",
        "print(resultado)\n",
        "\n",
        "# teniedo en cuenta que relsutadade 11/12 = 0.91666666666 y que 13/14 es igual a 0.92857142857 podemo con concluir que la segunda fracion es mayor por\n",
        "#por numero decimales los que resulta es verdadera la respuesta final del ejercicio."
      ],
      "metadata": {
        "colab": {
          "base_uri": "https://localhost:8080/"
        },
        "id": "zMYdyKCQyYFN",
        "outputId": "34dbbf37-3ccd-4c48-f30d-e472c058fd70"
      },
      "execution_count": null,
      "outputs": [
        {
          "output_type": "stream",
          "name": "stdout",
          "text": [
            "[ True]\n"
          ]
        }
      ]
    },
    {
      "cell_type": "code",
      "source": [
        "#Ejecrcicio D: e < 3\n",
        "import numpy as np\n",
        "\n",
        "resultado = np.e < 3\n",
        "print(resultado)\n",
        "# Verdadero porque e= 2.71828182846 que este es menor que 3"
      ],
      "metadata": {
        "colab": {
          "base_uri": "https://localhost:8080/"
        },
        "id": "O_XTIZvDd7pt",
        "outputId": "f762e0bc-4fc6-4737-9fec-0aac1ac526fb"
      },
      "execution_count": null,
      "outputs": [
        {
          "output_type": "stream",
          "name": "stdout",
          "text": [
            "True\n"
          ]
        }
      ]
    },
    {
      "cell_type": "code",
      "source": [
        "# Ejecicio E: -1/2 ≤ 0.4\n",
        "\n",
        "import numpy as np\n",
        "\n",
        "fraccion_1 = np.array([-1/2])  # Fracción -1/2 representada como un array NumPy\n",
        "fraccion_2 = np.array([0.4])     # Decimal 0.4 representado como un array NumPy\n",
        "\n",
        "# Comparar las fracciones utilizando la función np.less_equal()\n",
        "resultado = np.less_equal(fraccion_1, fraccion_2)\n",
        "\n",
        "# Imprimir el resultado\n",
        "print(resultado)\n"
      ],
      "metadata": {
        "colab": {
          "base_uri": "https://localhost:8080/"
        },
        "id": "oTnFfZun2qRh",
        "outputId": "9da71585-2007-4a22-87d3-54e165e5ebc0"
      },
      "execution_count": null,
      "outputs": [
        {
          "output_type": "stream",
          "name": "stdout",
          "text": [
            "[ True]\n"
          ]
        }
      ]
    },
    {
      "cell_type": "code",
      "source": [
        "# Ejercicio F: 𝜋 ≥ 4\n",
        "import numpy as np\n",
        "\n",
        "resultado = np.pi >= 4\n",
        "print(resultado)\n",
        "\n",
        "# Falso porque 𝜋 = 3,1415 que es menor, a diferencia de 4 que es mayor"
      ],
      "metadata": {
        "colab": {
          "base_uri": "https://localhost:8080/"
        },
        "id": "g-vgfZd3dZMf",
        "outputId": "9a88c82d-fcd0-411b-9984-1a678ff07a0b"
      },
      "execution_count": null,
      "outputs": [
        {
          "output_type": "stream",
          "name": "stdout",
          "text": [
            "False\n"
          ]
        }
      ]
    },
    {
      "cell_type": "code",
      "source": [
        "import numpy as np\n",
        "\n",
        "# a) x es positivo\n",
        "# x > 0\n",
        "condicion_a = np.array([0])\n",
        "\n",
        "# b) y es mayor que 6\n",
        "# y > 6\n",
        "condicion_b = np.array([6])\n",
        "\n",
        "# c) z es mayor que 3/2 y menor que 1\n",
        "# 3/2 < z < 1\n",
        "condicion_c = np.array([3/2, 1])\n",
        "\n",
        "# d) La distancia máxima de r a 5 es 4\n",
        "# |r - 5| <= 4\n",
        "condicion_d = np.array([1, 9])\n",
        "\n",
        "# e) m es a lo más 10\n",
        "# m <= 10\n",
        "condicion_e = np.array([10])\n",
        "\n",
        "# Imprimir las condiciones\n",
        "print(\"a) x es positivo:\", condicion_a)\n",
        "print(\"b) y es mayor que 6:\", condicion_b)\n",
        "print(\"c) z es mayor que 3/2 y menor que 1:\", condicion_c)\n",
        "print(\"d) La distancia máxima de r a 5 es 4:\", condicion_d)\n",
        "print(\"e) m es a lo más 10:\", condicion_e)\n"
      ],
      "metadata": {
        "id": "y-Bdtbd46nat",
        "outputId": "e349116f-12fd-4445-96e6-562b044311d0",
        "colab": {
          "base_uri": "https://localhost:8080/"
        }
      },
      "execution_count": null,
      "outputs": [
        {
          "output_type": "stream",
          "name": "stdout",
          "text": [
            "a) x es positivo: [0]\n",
            "b) y es mayor que 6: [6]\n",
            "c) z es mayor que 3/2 y menor que 1: [1.5 1. ]\n",
            "d) La distancia máxima de r a 5 es 4: [1 9]\n",
            "e) m es a lo más 10: [10]\n"
          ]
        }
      ]
    },
    {
      "cell_type": "code",
      "source": [],
      "metadata": {
        "id": "A9NH8rhTjp70"
      },
      "execution_count": null,
      "outputs": []
    },
    {
      "cell_type": "code",
      "source": [
        "import numpy as pn\n",
        "resultado = -36 - (-54)\n",
        "print (resultado)"
      ],
      "metadata": {
        "colab": {
          "base_uri": "https://localhost:8080/"
        },
        "id": "F20sIy39iztn",
        "outputId": "a89ae383-0285-4ca6-d74f-d50a4f233255"
      },
      "execution_count": null,
      "outputs": [
        {
          "output_type": "stream",
          "name": "stdout",
          "text": [
            "18\n"
          ]
        }
      ]
    },
    {
      "cell_type": "code",
      "source": [],
      "metadata": {
        "id": "yRtHt-K94sdf"
      },
      "execution_count": null,
      "outputs": []
    },
    {
      "cell_type": "markdown",
      "source": [
        "\n",
        "# A)  Que son son intervalos : (3,5)   = (3 < x < 5) = {X e R / x < 3 Y X < 5}\n",
        "= 3 < X < 5\n",
        "\n",
        "# B -0.5 - (8) = | 0.5 - 8 | = | -8.5 | = 8.5\n",
        "\n",
        "a/b * c/d = ac/bd multiplicacion\n",
        "\n",
        "a/b ÷ c/d = ad/bc divicion\n",
        "\n",
        "a/b + c/d = ad + bc / bd\n",
        "\n",
        "a/b - c/d = ad - bc/ bd\n",
        "\n",
        "# D)  5/2 - 8/3 =  | 5/2 - 8/3 = | 15 - 16 / 6 | = | -1/6 | = 1/6\n",
        "\n",
        "\n",
        "\n",
        "\n",
        "## Halle X de manera que la distancia entre los do puntos sea 5\n",
        "\n",
        "A) (0,0), (x,4)\n",
        "\n",
        "Distancia entre dos puntos en el plano P (Px, Py) Q ( Qx , Qy)\n",
        "\n"
      ],
      "metadata": {
        "id": "jDHnPI-e7s16"
      }
    },
    {
      "cell_type": "markdown",
      "source": [
        "## Halle X de manera que la distancia entre los dos puntos sea 5\n",
        "\n",
        "(0,0), (x,-4)  \n",
        "\n",
        "distancia (P,Q) =  √(X,0)² + (0,-4)² = 5²\n",
        "\n",
        "x² + 16 = 25 = 3² = 9\n",
        "\n",
        "x = 9"
      ],
      "metadata": {
        "id": "RnXCXf3mJYqq"
      }
    },
    {
      "cell_type": "markdown",
      "source": [
        "EJEMPLO: P(1,2) y Q (4,6)\n",
        "\n",
        "distancia\n",
        "\n",
        "(P,Q) = √ (1 - 4)² + (2 - 6)²\n",
        "\n",
        "= √ (-3)² + (-4)²\n",
        "\n",
        "= √ 9 + 16\n",
        "\n",
        "= √ 25\n",
        "\n",
        "= 5\n",
        "\n"
      ],
      "metadata": {
        "id": "51pTJuokXnvH"
      }
    },
    {
      "cell_type": "code",
      "source": [
        "import matplotlib.pyplot as plt\n",
        "\n",
        "# Definir los puntos\n",
        "puntos = [(0, 0), (3, -4), (-3, -4)]\n",
        "\n",
        "# Extraer coordenadas x e y de los puntos\n",
        "x_coords = [p[0] for p in puntos]\n",
        "y_coords = [p[1] for p in puntos]\n",
        "\n",
        "# Graficar los puntos en el plano cartesiano\n",
        "plt.figure(figsize=(8, 6))\n",
        "plt.scatter(x_coords, y_coords, color='red')\n",
        "plt.xlabel('Eje X')\n",
        "plt.ylabel('Eje Y')\n",
        "plt.title('Plano Cartesiano con Puntos Dados')\n",
        "plt.axhline(0, color='black',linewidth=0.5)\n",
        "plt.axvline(0, color='black',linewidth=0.5)\n",
        "plt.grid(color = 'gray', linestyle = '--', linewidth = 0.5)\n",
        "plt.xticks(range(-4, 5))\n",
        "plt.yticks(range(-5, 1))\n",
        "plt.gca().set_aspect('equal', adjustable='box')\n",
        "plt.show()\n",
        "\n"
      ],
      "metadata": {
        "colab": {
          "base_uri": "https://localhost:8080/",
          "height": 505
        },
        "id": "_DwJrR7IaFFD",
        "outputId": "2397e90a-5ad0-48ff-f7ae-5e0d94f4dfec"
      },
      "execution_count": null,
      "outputs": [
        {
          "output_type": "display_data",
          "data": {
            "text/plain": [
              "<Figure size 800x600 with 1 Axes>"
            ],
            "image/png": "[encoded data removed]"
          },
          "metadata": {}
        }
      ]
    },
    {
      "cell_type": "code",
      "source": [
        "# La disttancia de R a 5 es 4\n",
        "\n",
        "def ubicaciones_R(distancia_R_5, punto_b):\n",
        "    ubicacion_izquierda = punto_b - distancia_R_5\n",
        "    ubicacion_derecha = punto_b + distancia_R_5\n",
        "    return ubicacion_izquierda, ubicacion_derecha\n",
        "\n",
        "# Punto 5\n",
        "cinco = 5\n",
        "\n",
        "# Distancia entre R y 5\n",
        "distancia_R_5 = 4\n",
        "\n",
        "# Calcular las posibles ubicaciones de R\n",
        "ubicacion_izquierda, ubicacion_derecha = ubicaciones_R(distancia_R_5, cinco)\n",
        "\n",
        "# Mostrar las posibles ubicaciones de R\n",
        "print(\"Las dos posibles ubicaciones de R son:\", ubicacion_izquierda, \"y\", ubicacion_derecha)\n"
      ],
      "metadata": {
        "colab": {
          "base_uri": "https://localhost:8080/"
        },
        "id": "4UDxNuH_gl_j",
        "outputId": "05af7e50-dfde-4adb-bcbf-ffe570efacca"
      },
      "execution_count": null,
      "outputs": [
        {
          "output_type": "stream",
          "name": "stdout",
          "text": [
            "Las dos posibles ubicaciones de R son: 1 y 9\n"
          ]
        }
      ]
    },
    {
      "cell_type": "code",
      "source": [
        "import matplotlib.pyplot as plt\n",
        "\n",
        "def plot_recta_numerica(puntos, marcador_R):\n",
        "    plt.figure(figsize=(10, 1))\n",
        "    plt.scatter(puntos, [0] * len(puntos), color='red', marker='o', s=100, label='Puntos en la recta')\n",
        "    plt.axhline(0, color='black', linestyle='-', linewidth=2)\n",
        "    plt.legend()\n",
        "    plt.show()\n",
        "\n",
        "# Punto 5\n",
        "cinco = 5\n",
        "\n",
        "# Distancia entre R y 5\n",
        "distancia_R_5 = 4\n",
        "\n",
        "# Calcular las posibles ubicaciones de R\n",
        "ubicacion_izquierda, ubicacion_derecha = ubicaciones_R(distancia_R_5, cinco)\n",
        "\n",
        "# Puntos en la recta y ubicaciones de R\n",
        "puntos_en_recta = [ubicacion_izquierda, ubicacion_derecha, cinco]\n",
        "marcador_R = [ubicacion_izquierda, ubicacion_derecha]\n",
        "\n",
        "# Graficar la recta numérica con las posibles ubicaciones de R\n",
        "plot_recta_numerica(puntos_en_recta, marcador_R)\n"
      ],
      "metadata": {
        "colab": {
          "base_uri": "https://localhost:8080/",
          "height": 139
        },
        "id": "QcaaCsKjiRes",
        "outputId": "8ed5f2df-63c6-4afc-f4d6-f5e9d66ad4ee"
      },
      "execution_count": null,
      "outputs": [
        {
          "output_type": "display_data",
          "data": {
            "text/plain": [
              "<Figure size 1000x100 with 1 Axes>"
            ],
            "image/png": "[encoded data removed]"
          },
          "metadata": {}
        }
      ]
    },
    {
      "cell_type": "markdown",
      "source": [
        "# El punto del parcial\n",
        "\n",
        "Escriba el enuciado en forma de desigualdad\n",
        "\n",
        "$$ |r-5| \\ ≤ 4 $$"
      ],
      "metadata": {
        "id": "mMPjsPNXo8yd"
      }
    },
    {
      "cell_type": "markdown",
      "source": [
        "#MARZO 1\n",
        "\n",
        "\n",
        "Funciones:\n",
        "\n",
        "             Funciones lineales - Funciones constantes\n",
        "\n",
        "             Funciones cuadraticas\n",
        "\n",
        "Forma algebraica, Forma tavular y forma grafica (reprencentaciones de funciones)\n",
        "\n",
        "\n",
        "Ejemplo 1\n",
        "\n",
        "x = {2,4,6,8,10}\n",
        "\n",
        "Y = {1,2,3,4,5}\n",
        "\n",
        "![mate 1.PNG](data:image/png;base64,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)\n",
        "\n",
        "\n",
        "Forma algebraica:\n",
        "Y = F(X) = 1/2 = X/2\n",
        "la Y vale la mitad de X.\n",
        "\n",
        "\n",
        "Forma de la funcion como pares ordenados\n",
        "\n",
        "{(2,1) (4,2) (6,3) (8,4) (10,5)}\n",
        "\n",
        "\n"
      ],
      "metadata": {
        "id": "a-PrLrqw_MSt"
      }
    },
    {
      "cell_type": "markdown",
      "source": [
        "# Funciones exponenciales en ciencias economicas\n",
        "\n",
        "$$ k = k(t) = 1000\\left[1+ \\frac{5}{100}\\right]^t$$"
      ],
      "metadata": {
        "id": "Fe026wFEeg6w"
      }
    },
    {
      "cell_type": "code",
      "source": [
        "import plotly.graph_objects as go\n",
        "import numpy as np\n",
        "\n",
        "# Definir la función\n",
        "def calcular_cantidad(t):\n",
        "    return 1000 * (1 + 5/100) ** t\n",
        "\n",
        "# Crear valores de t\n",
        "t_valores = np.arange(0, 10, 0.1)  # Valores de t de 0 a 10 con incrementos de 0.1\n",
        "\n",
        "# Calcular los valores de K\n",
        "K_valores = [calcular_cantidad(t) for t in t_valores]\n",
        "\n",
        "# Crear la figura interactiva\n",
        "fig = go.Figure()\n",
        "fig.add_trace(go.Scatter(x=t_valores, y=K_valores, mode='lines', name='$K = 1000\\\\left(1 + \\\\frac{5}{100}\\\\right)^t'))\n",
        "\n",
        "# Personalizar el diseño del gráfico\n",
        "fig.update_layout(title='Crecimiento de la cantidad en función del tiempo',\n",
        "                  xaxis_title='t (años)',\n",
        "                  yaxis_title='K (cantidad)',\n",
        "                  template='plotly_dark')\n",
        "\n",
        "# Mostrar el gráfico\n",
        "fig.show()\n"
      ],
      "metadata": {
        "colab": {
          "base_uri": "https://localhost:8080/",
          "height": 542
        },
        "id": "CznFYm5Xie06",
        "outputId": "3bb9094b-dd84-4bb6-c521-ab64eb099469"
      },
      "execution_count": null,
      "outputs": [
        {
          "output_type": "display_data",
          "data": {
            "text/html": [
              "<html>\n",
              "<head><meta charset=\"utf-8\" /></head>\n",
              "<body>\n",
              "    <div>            <script src=\"https://cdnjs.cloudflare.com/ajax/libs/mathjax/2.7.5/MathJax.js?config=TeX-AMS-MML_SVG\"></script><script type=\"text/javascript\">if (window.MathJax && window.MathJax.Hub && window.MathJax.Hub.Config) {window.MathJax.Hub.Config({SVG: {font: \"STIX-Web\"}});}</script>                <script type=\"text/javascript\">window.PlotlyConfig = {MathJaxConfig: 'local'};</script>\n",
              "        <script charset=\"utf-8\" src=\"https://cdn.plot.ly/plotly-2.24.1.min.js\"></script>                <div id=\"87b74fa0-b213-4bc2-b30e-94495bc5b518\" class=\"plotly-graph-div\" style=\"height:525px; width:100%;\"></div>            <script type=\"text/javascript\">                                    window.PLOTLYENV=window.PLOTLYENV || {};                                    if (document.getElementById(\"87b74fa0-b213-4bc2-b30e-94495bc5b518\")) {                    Plotly.newPlot(                        \"87b74fa0-b213-4bc2-b30e-94495bc5b518\",                        [{\"mode\":\"lines\",\"name\":\"$K = 1000\\\\left(1 + \\\\frac{5}{100}\\\\right)^t\",\"x\":[0.0,0.1,0.2,0.30000000000000004,0.4,0.5,0.6000000000000001,0.7000000000000001,0.8,0.9,1.0,1.1,1.2000000000000002,1.3,1.4000000000000001,1.5,1.6,1.7000000000000002,1.8,1.9000000000000001,2.0,2.1,2.2,2.3000000000000003,2.4000000000000004,2.5,2.6,2.7,2.8000000000000003,2.9000000000000004,3.0,3.1,3.2,3.3000000000000003,3.4000000000000004,3.5,3.6,3.7,3.8000000000000003,3.9000000000000004,4.0,4.1000000000000005,4.2,4.3,4.4,4.5,4.6000000000000005,4.7,4.800000000000001,4.9,5.0,5.1000000000000005,5.2,5.300000000000001,5.4,5.5,5.6000000000000005,5.7,5.800000000000001,5.9,6.0,6.1000000000000005,6.2,6.300000000000001,6.4,6.5,6.6000000000000005,6.7,6.800000000000001,6.9,7.0,7.1000000000000005,7.2,7.300000000000001,7.4,7.5,7.6000000000000005,7.7,7.800000000000001,7.9,8.0,8.1,8.200000000000001,8.3,8.4,8.5,8.6,8.700000000000001,8.8,8.9,9.0,9.1,9.200000000000001,9.3,9.4,9.5,9.600000000000001,9.700000000000001,9.8,9.9],\"y\":[1000.0,1004.8909381985118,1009.8057976734854,1014.7446954224054,1019.707749014984,1024.69507659596,1029.70679688791,1034.7430291940764,1039.8038934012054,1044.8895099824026,1050.0,1055.1354851084375,1060.2960875571596,1065.4819301935256,1070.6931364657332,1075.929830425758,1081.1921367323057,1086.4801806537803,1091.7940880712658,1097.133985481523,1102.5,1107.8922593638595,1113.3108919350177,1118.756026703202,1124.22779328902,1129.726321947046,1135.2517435689208,1140.8041896864693,1146.3837924748293,1151.9906847555992,1157.6250000000002,1163.2868723320523,1168.9764365317685,1174.6938280383622,1180.4391829534711,1186.2126380443983,1192.014330747367,1197.8443991707927,1203.7029820985708,1209.590218993379,1215.5062500000001,1221.451215948655,1227.425258358357,1233.42851944028,1239.4611421011446,1245.523269946618,1251.6150472847353,1257.7366191293324,1263.8881312034994,1270.0697299430483,1276.2815625000003,1282.523776746088,1288.7965212762751,1295.0999454122941,1301.434199206202,1307.799433443949,1314.1957996489723,1320.6234500857993,1327.0825377636743,1333.5732164402007,1340.0956406250004,1346.6499655833923,1353.2363473400887,1359.8549426829093,1366.5059091665119,1373.1894051161466,1379.905589631421,1386.6546225900893,1393.436664651858,1400.2518772622109,1407.1004226562504,1413.982463862562,1420.8981647070932,1427.8476898170547,1434.8312046248377,1441.8488753719541,1448.900869112992,1455.9873537195938,1463.108497884451,1470.2644711253215,1477.455443789063,1484.6815870556902,1491.943072942448,1499.2400743079072,1506.5727648560796,1513.9413191405517,1521.3459125686418,1528.7867214055734,1536.2639227786735,1543.7776946815875,1551.3282159785163,1558.9156664084746,1566.5402265895705,1574.2020780233029,1581.9014030988835,1589.6383850975794,1597.413208197074,1605.2260574758523,1613.0771189176073,1620.966579415667],\"type\":\"scatter\"}],                        {\"template\":{\"data\":{\"barpolar\":[{\"marker\":{\"line\":{\"color\":\"rgb(17,17,17)\",\"width\":0.5},\"pattern\":{\"fillmode\":\"overlay\",\"size\":10,\"solidity\":0.2}},\"type\":\"barpolar\"}],\"bar\":[{\"error_x\":{\"color\":\"#f2f5fa\"},\"error_y\":{\"color\":\"#f2f5fa\"},\"marker\":{\"line\":{\"color\":\"rgb(17,17,17)\",\"width\":0.5},\"pattern\":{\"fillmode\":\"overlay\",\"size\":10,\"solidity\":0.2}},\"type\":\"bar\"}],\"carpet\":[{\"aaxis\":{\"endlinecolor\":\"#A2B1C6\",\"gridcolor\":\"#506784\",\"linecolor\":\"#506784\",\"minorgridcolor\":\"#506784\",\"startlinecolor\":\"#A2B1C6\"},\"baxis\":{\"endlinecolor\":\"#A2B1C6\",\"gridcolor\":\"#506784\",\"linecolor\":\"#506784\",\"minorgridcolor\":\"#506784\",\"startlinecolor\":\"#A2B1C6\"},\"type\":\"carpet\"}],\"choropleth\":[{\"colorbar\":{\"outlinewidth\":0,\"ticks\":\"\"},\"type\":\"choropleth\"}],\"contourcarpet\":[{\"colorbar\":{\"outlinewidth\":0,\"ticks\":\"\"},\"type\":\"contourcarpet\"}],\"contour\":[{\"colorbar\":{\"outlinewidth\":0,\"ticks\":\"\"},\"colorscale\":[[0.0,\"#0d0887\"],[0.1111111111111111,\"#46039f\"],[0.2222222222222222,\"#7201a8\"],[0.3333333333333333,\"#9c179e\"],[0.4444444444444444,\"#bd3786\"],[0.5555555555555556,\"#d8576b\"],[0.6666666666666666,\"#ed7953\"],[0.7777777777777778,\"#fb9f3a\"],[0.8888888888888888,\"#fdca26\"],[1.0,\"#f0f921\"]],\"type\":\"contour\"}],\"heatmapgl\":[{\"colorbar\":{\"outlinewidth\":0,\"ticks\":\"\"},\"colorscale\":[[0.0,\"#0d0887\"],[0.1111111111111111,\"#46039f\"],[0.2222222222222222,\"#7201a8\"],[0.3333333333333333,\"#9c179e\"],[0.4444444444444444,\"#bd3786\"],[0.5555555555555556,\"#d8576b\"],[0.6666666666666666,\"#ed7953\"],[0.7777777777777778,\"#fb9f3a\"],[0.8888888888888888,\"#fdca26\"],[1.0,\"#f0f921\"]],\"type\":\"heatmapgl\"}],\"heatmap\":[{\"colorbar\":{\"outlinewidth\":0,\"ticks\":\"\"},\"colorscale\":[[0.0,\"#0d0887\"],[0.1111111111111111,\"#46039f\"],[0.2222222222222222,\"#7201a8\"],[0.3333333333333333,\"#9c179e\"],[0.4444444444444444,\"#bd3786\"],[0.5555555555555556,\"#d8576b\"],[0.6666666666666666,\"#ed7953\"],[0.7777777777777778,\"#fb9f3a\"],[0.8888888888888888,\"#fdca26\"],[1.0,\"#f0f921\"]],\"type\":\"heatmap\"}],\"histogram2dcontour\":[{\"colorbar\":{\"outlinewidth\":0,\"ticks\":\"\"},\"colorscale\":[[0.0,\"#0d0887\"],[0.1111111111111111,\"#46039f\"],[0.2222222222222222,\"#7201a8\"],[0.3333333333333333,\"#9c179e\"],[0.4444444444444444,\"#bd3786\"],[0.5555555555555556,\"#d8576b\"],[0.6666666666666666,\"#ed7953\"],[0.7777777777777778,\"#fb9f3a\"],[0.8888888888888888,\"#fdca26\"],[1.0,\"#f0f921\"]],\"type\":\"histogram2dcontour\"}],\"histogram2d\":[{\"colorbar\":{\"outlinewidth\":0,\"ticks\":\"\"},\"colorscale\":[[0.0,\"#0d0887\"],[0.1111111111111111,\"#46039f\"],[0.2222222222222222,\"#7201a8\"],[0.3333333333333333,\"#9c179e\"],[0.4444444444444444,\"#bd3786\"],[0.5555555555555556,\"#d8576b\"],[0.6666666666666666,\"#ed7953\"],[0.7777777777777778,\"#fb9f3a\"],[0.8888888888888888,\"#fdca26\"],[1.0,\"#f0f921\"]],\"type\":\"histogram2d\"}],\"histogram\":[{\"marker\":{\"pattern\":{\"fillmode\":\"overlay\",\"size\":10,\"solidity\":0.2}},\"type\":\"histogram\"}],\"mesh3d\":[{\"colorbar\":{\"outlinewidth\":0,\"ticks\":\"\"},\"type\":\"mesh3d\"}],\"parcoords\":[{\"line\":{\"colorbar\":{\"outlinewidth\":0,\"ticks\":\"\"}},\"type\":\"parcoords\"}],\"pie\":[{\"automargin\":true,\"type\":\"pie\"}],\"scatter3d\":[{\"line\":{\"colorbar\":{\"outlinewidth\":0,\"ticks\":\"\"}},\"marker\":{\"colorbar\":{\"outlinewidth\":0,\"ticks\":\"\"}},\"type\":\"scatter3d\"}],\"scattercarpet\":[{\"marker\":{\"colorbar\":{\"outlinewidth\":0,\"ticks\":\"\"}},\"type\":\"scattercarpet\"}],\"scattergeo\":[{\"marker\":{\"colorbar\":{\"outlinewidth\":0,\"ticks\":\"\"}},\"type\":\"scattergeo\"}],\"scattergl\":[{\"marker\":{\"line\":{\"color\":\"#283442\"}},\"type\":\"scattergl\"}],\"scattermapbox\":[{\"marker\":{\"colorbar\":{\"outlinewidth\":0,\"ticks\":\"\"}},\"type\":\"scattermapbox\"}],\"scatterpolargl\":[{\"marker\":{\"colorbar\":{\"outlinewidth\":0,\"ticks\":\"\"}},\"type\":\"scatterpolargl\"}],\"scatterpolar\":[{\"marker\":{\"colorbar\":{\"outlinewidth\":0,\"ticks\":\"\"}},\"type\":\"scatterpolar\"}],\"scatter\":[{\"marker\":{\"line\":{\"color\":\"#283442\"}},\"type\":\"scatter\"}],\"scatterternary\":[{\"marker\":{\"colorbar\":{\"outlinewidth\":0,\"ticks\":\"\"}},\"type\":\"scatterternary\"}],\"surface\":[{\"colorbar\":{\"outlinewidth\":0,\"ticks\":\"\"},\"colorscale\":[[0.0,\"#0d0887\"],[0.1111111111111111,\"#46039f\"],[0.2222222222222222,\"#7201a8\"],[0.3333333333333333,\"#9c179e\"],[0.4444444444444444,\"#bd3786\"],[0.5555555555555556,\"#d8576b\"],[0.6666666666666666,\"#ed7953\"],[0.7777777777777778,\"#fb9f3a\"],[0.8888888888888888,\"#fdca26\"],[1.0,\"#f0f921\"]],\"type\":\"surface\"}],\"table\":[{\"cells\":{\"fill\":{\"color\":\"#506784\"},\"line\":{\"color\":\"rgb(17,17,17)\"}},\"header\":{\"fill\":{\"color\":\"#2a3f5f\"},\"line\":{\"color\":\"rgb(17,17,17)\"}},\"type\":\"table\"}]},\"layout\":{\"annotationdefaults\":{\"arrowcolor\":\"#f2f5fa\",\"arrowhead\":0,\"arrowwidth\":1},\"autotypenumbers\":\"strict\",\"coloraxis\":{\"colorbar\":{\"outlinewidth\":0,\"ticks\":\"\"}},\"colorscale\":{\"diverging\":[[0,\"#8e0152\"],[0.1,\"#c51b7d\"],[0.2,\"#de77ae\"],[0.3,\"#f1b6da\"],[0.4,\"#fde0ef\"],[0.5,\"#f7f7f7\"],[0.6,\"#e6f5d0\"],[0.7,\"#b8e186\"],[0.8,\"#7fbc41\"],[0.9,\"#4d9221\"],[1,\"#276419\"]],\"sequential\":[[0.0,\"#0d0887\"],[0.1111111111111111,\"#46039f\"],[0.2222222222222222,\"#7201a8\"],[0.3333333333333333,\"#9c179e\"],[0.4444444444444444,\"#bd3786\"],[0.5555555555555556,\"#d8576b\"],[0.6666666666666666,\"#ed7953\"],[0.7777777777777778,\"#fb9f3a\"],[0.8888888888888888,\"#fdca26\"],[1.0,\"#f0f921\"]],\"sequentialminus\":[[0.0,\"#0d0887\"],[0.1111111111111111,\"#46039f\"],[0.2222222222222222,\"#7201a8\"],[0.3333333333333333,\"#9c179e\"],[0.4444444444444444,\"#bd3786\"],[0.5555555555555556,\"#d8576b\"],[0.6666666666666666,\"#ed7953\"],[0.7777777777777778,\"#fb9f3a\"],[0.8888888888888888,\"#fdca26\"],[1.0,\"#f0f921\"]]},\"colorway\":[\"#636efa\",\"#EF553B\",\"#00cc96\",\"#ab63fa\",\"#FFA15A\",\"#19d3f3\",\"#FF6692\",\"#B6E880\",\"#FF97FF\",\"#FECB52\"],\"font\":{\"color\":\"#f2f5fa\"},\"geo\":{\"bgcolor\":\"rgb(17,17,17)\",\"lakecolor\":\"rgb(17,17,17)\",\"landcolor\":\"rgb(17,17,17)\",\"showlakes\":true,\"showland\":true,\"subunitcolor\":\"#506784\"},\"hoverlabel\":{\"align\":\"left\"},\"hovermode\":\"closest\",\"mapbox\":{\"style\":\"dark\"},\"paper_bgcolor\":\"rgb(17,17,17)\",\"plot_bgcolor\":\"rgb(17,17,17)\",\"polar\":{\"angularaxis\":{\"gridcolor\":\"#506784\",\"linecolor\":\"#506784\",\"ticks\":\"\"},\"bgcolor\":\"rgb(17,17,17)\",\"radialaxis\":{\"gridcolor\":\"#506784\",\"linecolor\":\"#506784\",\"ticks\":\"\"}},\"scene\":{\"xaxis\":{\"backgroundcolor\":\"rgb(17,17,17)\",\"gridcolor\":\"#506784\",\"gridwidth\":2,\"linecolor\":\"#506784\",\"showbackground\":true,\"ticks\":\"\",\"zerolinecolor\":\"#C8D4E3\"},\"yaxis\":{\"backgroundcolor\":\"rgb(17,17,17)\",\"gridcolor\":\"#506784\",\"gridwidth\":2,\"linecolor\":\"#506784\",\"showbackground\":true,\"ticks\":\"\",\"zerolinecolor\":\"#C8D4E3\"},\"zaxis\":{\"backgroundcolor\":\"rgb(17,17,17)\",\"gridcolor\":\"#506784\",\"gridwidth\":2,\"linecolor\":\"#506784\",\"showbackground\":true,\"ticks\":\"\",\"zerolinecolor\":\"#C8D4E3\"}},\"shapedefaults\":{\"line\":{\"color\":\"#f2f5fa\"}},\"sliderdefaults\":{\"bgcolor\":\"#C8D4E3\",\"bordercolor\":\"rgb(17,17,17)\",\"borderwidth\":1,\"tickwidth\":0},\"ternary\":{\"aaxis\":{\"gridcolor\":\"#506784\",\"linecolor\":\"#506784\",\"ticks\":\"\"},\"baxis\":{\"gridcolor\":\"#506784\",\"linecolor\":\"#506784\",\"ticks\":\"\"},\"bgcolor\":\"rgb(17,17,17)\",\"caxis\":{\"gridcolor\":\"#506784\",\"linecolor\":\"#506784\",\"ticks\":\"\"}},\"title\":{\"x\":0.05},\"updatemenudefaults\":{\"bgcolor\":\"#506784\",\"borderwidth\":0},\"xaxis\":{\"automargin\":true,\"gridcolor\":\"#283442\",\"linecolor\":\"#506784\",\"ticks\":\"\",\"title\":{\"standoff\":15},\"zerolinecolor\":\"#283442\",\"zerolinewidth\":2},\"yaxis\":{\"automargin\":true,\"gridcolor\":\"#283442\",\"linecolor\":\"#506784\",\"ticks\":\"\",\"title\":{\"standoff\":15},\"zerolinecolor\":\"#283442\",\"zerolinewidth\":2}}},\"title\":{\"text\":\"Crecimiento de la cantidad en funci\\u00f3n del tiempo\"},\"xaxis\":{\"title\":{\"text\":\"t (a\\u00f1os)\"}},\"yaxis\":{\"title\":{\"text\":\"K (cantidad)\"}}},                        {\"responsive\": true}                    ).then(function(){\n",
              "                            \n",
              "var gd = document.getElementById('87b74fa0-b213-4bc2-b30e-94495bc5b518');\n",
              "var x = new MutationObserver(function (mutations, observer) {{\n",
              "        var display = window.getComputedStyle(gd).display;\n",
              "        if (!display || display === 'none') {{\n",
              "            console.log([gd, 'removed!']);\n",
              "            Plotly.purge(gd);\n",
              "            observer.disconnect();\n",
              "        }}\n",
              "}});\n",
              "\n",
              "// Listen for the removal of the full notebook cells\n",
              "var notebookContainer = gd.closest('#notebook-container');\n",
              "if (notebookContainer) {{\n",
              "    x.observe(notebookContainer, {childList: true});\n",
              "}}\n",
              "\n",
              "// Listen for the clearing of the current output cell\n",
              "var outputEl = gd.closest('.output');\n",
              "if (outputEl) {{\n",
              "    x.observe(outputEl, {childList: true});\n",
              "}}\n",
              "\n",
              "                        })                };                            </script>        </div>\n",
              "</body>\n",
              "</html>"
            ]
          },
          "metadata": {}
        }
      ]
    },
    {
      "cell_type": "markdown",
      "source": [
        "Al observar el gráfico, se puede apreciar claramente que la cantidad (K) experimenta un crecimiento exponencial a medida que el tiempo (t) avanza. Inicialmente, el crecimiento puede parecer lento, pero a medida que el tiempo progresa, la cantidad aumenta de manera significativa debido al efecto exponencial.\n",
        "\n",
        "Las conclusiones que podemos extraer del gráfico son las siguientes:\n",
        "\n",
        "- El crecimiento de la cantidad es exponencial, lo que significa que se acelera con el tiempo.\n",
        "- A medida que el tiempo aumenta, la cantidad también aumenta de forma exponencial.\n",
        "- La tasa de crecimiento es constante y está determinada por el factor de crecimiento en la función.\n",
        "\n",
        "En resumen, el gráfico nos permite visualizar de manera clara y concisa cómo la cantidad crece exponencialmente en función del tiempo, lo cual es fundamental para comprender el comportamiento de fenómenos de crecimiento exponencial en diversos contextos.\n",
        "\n"
      ],
      "metadata": {
        "id": "pj5T74Qyk7y-"
      }
    },
    {
      "cell_type": "markdown",
      "source": [
        "#Evalucacion de funciones\n",
        "\n",
        "Ejemplo:\n",
        "\n",
        "F(X) = √ X² - 3X + 4X³ - 100\n",
        "\n",
        "F(3) = √ 3² - 3 * 3 + 4 *3³ - 100\n",
        "\n",
        "F(3) = √ 9 - 3 * 3 + 4 * 27 - 100\n",
        "\n",
        "F(3) = √ 9 - 9 + 108 - 100\n",
        "\n",
        "F(3) = √ 0 + 8\n",
        "\n",
        "F(3) = 0 + 8\n",
        "\n",
        "F(3) = 8\n",
        "\n",
        "\n",
        "Ejemplo:\n",
        "\n",
        "F(X) = √ X² - 3X + 4X³ - 100\n",
        "\n",
        "F(2) =\n",
        "\n"
      ],
      "metadata": {
        "id": "mIcImN-qqmKf"
      }
    }
  ]
}