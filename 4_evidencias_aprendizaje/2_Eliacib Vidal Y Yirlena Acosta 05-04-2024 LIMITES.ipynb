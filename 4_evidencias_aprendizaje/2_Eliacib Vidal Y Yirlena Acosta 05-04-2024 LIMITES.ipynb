{
 "cells": [
  {
   "cell_type": "markdown",
   "metadata": {
    "id": "bk1tNoEAXzYK"
   },
   "source": [
    "# LIMITES\n",
    "\n",
    "## 1- Funciones lineales\n",
    "\n",
    "objetivo: ver que las funciones lineales son de velocidad de cambio constante\n",
    "\n",
    "\n",
    "Ejemplo:\n",
    "\n",
    "X: numero de huevos\n",
    "\n",
    "\n",
    "P(x): el precios de X huevos\n",
    "\n",
    "\n",
    "\n",
    "$$P(10) = 8000$$\n",
    "$$P(3) 2400$$\n",
    "$$P(10) - P(3)/ 10 - 3 = 8000 - 2400/7 = 5600/7 = 800$$\n",
    "\n"
   ]
  },
  {
   "cell_type": "code",
   "execution_count": 2,
   "metadata": {
    "colab": {
     "base_uri": "https://localhost:8080/",
     "height": 542
    },
    "executionInfo": {
     "elapsed": 1964,
     "status": "ok",
     "timestamp": 1712324212313,
     "user": {
      "displayName": "ELIACIB VIDAL QUINTERO",
      "userId": "08678936630956307572"
     },
     "user_tz": 300
    },
    "id": "qhbounzXeduO",
    "outputId": "3053e5f5-abac-48d0-8658-599e79c58854"
   },
   "outputs": [
    {
     "data": {
      "application/vnd.plotly.v1+json": {
       "config": {
        "plotlyServerURL": "https://plot.ly"
       },
       "data": [
        {
         "mode": "markers",
         "name": "Datos",
         "type": "scatter",
         "x": [
          1,
          3,
          10
         ],
         "y": [
          800,
          2400,
          8000
         ]
        },
        {
         "mode": "lines",
         "name": "Línea de ajuste",
         "type": "scatter",
         "x": [
          1,
          10
         ],
         "y": [
          800,
          8000
         ]
        }
       ],
       "layout": {
        "autosize": true,
        "template": {
         "data": {
          "bar": [
           {
            "error_x": {
             "color": "#f2f5fa"
            },
            "error_y": {
             "color": "#f2f5fa"
            },
            "marker": {
             "line": {
              "color": "rgb(17,17,17)",
              "width": 0.5
             },
             "pattern": {
              "fillmode": "overlay",
              "size": 10,
              "solidity": 0.2
             }
            },
            "type": "bar"
           }
          ],
          "barpolar": [
           {
            "marker": {
             "line": {
              "color": "rgb(17,17,17)",
              "width": 0.5
             },
             "pattern": {
              "fillmode": "overlay",
              "size": 10,
              "solidity": 0.2
             }
            },
            "type": "barpolar"
           }
          ],
          "carpet": [
           {
            "aaxis": {
             "endlinecolor": "#A2B1C6",
             "gridcolor": "#506784",
             "linecolor": "#506784",
             "minorgridcolor": "#506784",
             "startlinecolor": "#A2B1C6"
            },
            "baxis": {
             "endlinecolor": "#A2B1C6",
             "gridcolor": "#506784",
             "linecolor": "#506784",
             "minorgridcolor": "#506784",
             "startlinecolor": "#A2B1C6"
            },
            "type": "carpet"
           }
          ],
          "choropleth": [
           {
            "colorbar": {
             "outlinewidth": 0,
             "ticks": ""
            },
            "type": "choropleth"
           }
          ],
          "contour": [
           {
            "colorbar": {
             "outlinewidth": 0,
             "ticks": ""
            },
            "colorscale": [
             [
              0,
              "#0d0887"
             ],
             [
              0.1111111111111111,
              "#46039f"
             ],
             [
              0.2222222222222222,
              "#7201a8"
             ],
             [
              0.3333333333333333,
              "#9c179e"
             ],
             [
              0.4444444444444444,
              "#bd3786"
             ],
             [
              0.5555555555555556,
              "#d8576b"
             ],
             [
              0.6666666666666666,
              "#ed7953"
             ],
             [
              0.7777777777777778,
              "#fb9f3a"
             ],
             [
              0.8888888888888888,
              "#fdca26"
             ],
             [
              1,
              "#f0f921"
             ]
            ],
            "type": "contour"
           }
          ],
          "contourcarpet": [
           {
            "colorbar": {
             "outlinewidth": 0,
             "ticks": ""
            },
            "type": "contourcarpet"
           }
          ],
          "heatmap": [
           {
            "colorbar": {
             "outlinewidth": 0,
             "ticks": ""
            },
            "colorscale": [
             [
              0,
              "#0d0887"
             ],
             [
              0.1111111111111111,
              "#46039f"
             ],
             [
              0.2222222222222222,
              "#7201a8"
             ],
             [
              0.3333333333333333,
              "#9c179e"
             ],
             [
              0.4444444444444444,
              "#bd3786"
             ],
             [
              0.5555555555555556,
              "#d8576b"
             ],
             [
              0.6666666666666666,
              "#ed7953"
             ],
             [
              0.7777777777777778,
              "#fb9f3a"
             ],
             [
              0.8888888888888888,
              "#fdca26"
             ],
             [
              1,
              "#f0f921"
             ]
            ],
            "type": "heatmap"
           }
          ],
          "heatmapgl": [
           {
            "colorbar": {
             "outlinewidth": 0,
             "ticks": ""
            },
            "colorscale": [
             [
              0,
              "#0d0887"
             ],
             [
              0.1111111111111111,
              "#46039f"
             ],
             [
              0.2222222222222222,
              "#7201a8"
             ],
             [
              0.3333333333333333,
              "#9c179e"
             ],
             [
              0.4444444444444444,
              "#bd3786"
             ],
             [
              0.5555555555555556,
              "#d8576b"
             ],
             [
              0.6666666666666666,
              "#ed7953"
             ],
             [
              0.7777777777777778,
              "#fb9f3a"
             ],
             [
              0.8888888888888888,
              "#fdca26"
             ],
             [
              1,
              "#f0f921"
             ]
            ],
            "type": "heatmapgl"
           }
          ],
          "histogram": [
           {
            "marker": {
             "pattern": {
              "fillmode": "overlay",
              "size": 10,
              "solidity": 0.2
             }
            },
            "type": "histogram"
           }
          ],
          "histogram2d": [
           {
            "colorbar": {
             "outlinewidth": 0,
             "ticks": ""
            },
            "colorscale": [
             [
              0,
              "#0d0887"
             ],
             [
              0.1111111111111111,
              "#46039f"
             ],
             [
              0.2222222222222222,
              "#7201a8"
             ],
             [
              0.3333333333333333,
              "#9c179e"
             ],
             [
              0.4444444444444444,
              "#bd3786"
             ],
             [
              0.5555555555555556,
              "#d8576b"
             ],
             [
              0.6666666666666666,
              "#ed7953"
             ],
             [
              0.7777777777777778,
              "#fb9f3a"
             ],
             [
              0.8888888888888888,
              "#fdca26"
             ],
             [
              1,
              "#f0f921"
             ]
            ],
            "type": "histogram2d"
           }
          ],
          "histogram2dcontour": [
           {
            "colorbar": {
             "outlinewidth": 0,
             "ticks": ""
            },
            "colorscale": [
             [
              0,
              "#0d0887"
             ],
             [
              0.1111111111111111,
              "#46039f"
             ],
             [
              0.2222222222222222,
              "#7201a8"
             ],
             [
              0.3333333333333333,
              "#9c179e"
             ],
             [
              0.4444444444444444,
              "#bd3786"
             ],
             [
              0.5555555555555556,
              "#d8576b"
             ],
             [
              0.6666666666666666,
              "#ed7953"
             ],
             [
              0.7777777777777778,
              "#fb9f3a"
             ],
             [
              0.8888888888888888,
              "#fdca26"
             ],
             [
              1,
              "#f0f921"
             ]
            ],
            "type": "histogram2dcontour"
           }
          ],
          "mesh3d": [
           {
            "colorbar": {
             "outlinewidth": 0,
             "ticks": ""
            },
            "type": "mesh3d"
           }
          ],
          "parcoords": [
           {
            "line": {
             "colorbar": {
              "outlinewidth": 0,
              "ticks": ""
             }
            },
            "type": "parcoords"
           }
          ],
          "pie": [
           {
            "automargin": true,
            "type": "pie"
           }
          ],
          "scatter": [
           {
            "marker": {
             "line": {
              "color": "#283442"
             }
            },
            "type": "scatter"
           }
          ],
          "scatter3d": [
           {
            "line": {
             "colorbar": {
              "outlinewidth": 0,
              "ticks": ""
             }
            },
            "marker": {
             "colorbar": {
              "outlinewidth": 0,
              "ticks": ""
             }
            },
            "type": "scatter3d"
           }
          ],
          "scattercarpet": [
           {
            "marker": {
             "colorbar": {
              "outlinewidth": 0,
              "ticks": ""
             }
            },
            "type": "scattercarpet"
           }
          ],
          "scattergeo": [
           {
            "marker": {
             "colorbar": {
              "outlinewidth": 0,
              "ticks": ""
             }
            },
            "type": "scattergeo"
           }
          ],
          "scattergl": [
           {
            "marker": {
             "line": {
              "color": "#283442"
             }
            },
            "type": "scattergl"
           }
          ],
          "scattermapbox": [
           {
            "marker": {
             "colorbar": {
              "outlinewidth": 0,
              "ticks": ""
             }
            },
            "type": "scattermapbox"
           }
          ],
          "scatterpolar": [
           {
            "marker": {
             "colorbar": {
              "outlinewidth": 0,
              "ticks": ""
             }
            },
            "type": "scatterpolar"
           }
          ],
          "scatterpolargl": [
           {
            "marker": {
             "colorbar": {
              "outlinewidth": 0,
              "ticks": ""
             }
            },
            "type": "scatterpolargl"
           }
          ],
          "scatterternary": [
           {
            "marker": {
             "colorbar": {
              "outlinewidth": 0,
              "ticks": ""
             }
            },
            "type": "scatterternary"
           }
          ],
          "surface": [
           {
            "colorbar": {
             "outlinewidth": 0,
             "ticks": ""
            },
            "colorscale": [
             [
              0,
              "#0d0887"
             ],
             [
              0.1111111111111111,
              "#46039f"
             ],
             [
              0.2222222222222222,
              "#7201a8"
             ],
             [
              0.3333333333333333,
              "#9c179e"
             ],
             [
              0.4444444444444444,
              "#bd3786"
             ],
             [
              0.5555555555555556,
              "#d8576b"
             ],
             [
              0.6666666666666666,
              "#ed7953"
             ],
             [
              0.7777777777777778,
              "#fb9f3a"
             ],
             [
              0.8888888888888888,
              "#fdca26"
             ],
             [
              1,
              "#f0f921"
             ]
            ],
            "type": "surface"
           }
          ],
          "table": [
           {
            "cells": {
             "fill": {
              "color": "#506784"
             },
             "line": {
              "color": "rgb(17,17,17)"
             }
            },
            "header": {
             "fill": {
              "color": "#2a3f5f"
             },
             "line": {
              "color": "rgb(17,17,17)"
             }
            },
            "type": "table"
           }
          ]
         },
         "layout": {
          "annotationdefaults": {
           "arrowcolor": "#f2f5fa",
           "arrowhead": 0,
           "arrowwidth": 1
          },
          "autotypenumbers": "strict",
          "coloraxis": {
           "colorbar": {
            "outlinewidth": 0,
            "ticks": ""
           }
          },
          "colorscale": {
           "diverging": [
            [
             0,
             "#8e0152"
            ],
            [
             0.1,
             "#c51b7d"
            ],
            [
             0.2,
             "#de77ae"
            ],
            [
             0.3,
             "#f1b6da"
            ],
            [
             0.4,
             "#fde0ef"
            ],
            [
             0.5,
             "#f7f7f7"
            ],
            [
             0.6,
             "#e6f5d0"
            ],
            [
             0.7,
             "#b8e186"
            ],
            [
             0.8,
             "#7fbc41"
            ],
            [
             0.9,
             "#4d9221"
            ],
            [
             1,
             "#276419"
            ]
           ],
           "sequential": [
            [
             0,
             "#0d0887"
            ],
            [
             0.1111111111111111,
             "#46039f"
            ],
            [
             0.2222222222222222,
             "#7201a8"
            ],
            [
             0.3333333333333333,
             "#9c179e"
            ],
            [
             0.4444444444444444,
             "#bd3786"
            ],
            [
             0.5555555555555556,
             "#d8576b"
            ],
            [
             0.6666666666666666,
             "#ed7953"
            ],
            [
             0.7777777777777778,
             "#fb9f3a"
            ],
            [
             0.8888888888888888,
             "#fdca26"
            ],
            [
             1,
             "#f0f921"
            ]
           ],
           "sequentialminus": [
            [
             0,
             "#0d0887"
            ],
            [
             0.1111111111111111,
             "#46039f"
            ],
            [
             0.2222222222222222,
             "#7201a8"
            ],
            [
             0.3333333333333333,
             "#9c179e"
            ],
            [
             0.4444444444444444,
             "#bd3786"
            ],
            [
             0.5555555555555556,
             "#d8576b"
            ],
            [
             0.6666666666666666,
             "#ed7953"
            ],
            [
             0.7777777777777778,
             "#fb9f3a"
            ],
            [
             0.8888888888888888,
             "#fdca26"
            ],
            [
             1,
             "#f0f921"
            ]
           ]
          },
          "colorway": [
           "#636efa",
           "#EF553B",
           "#00cc96",
           "#ab63fa",
           "#FFA15A",
           "#19d3f3",
           "#FF6692",
           "#B6E880",
           "#FF97FF",
           "#FECB52"
          ],
          "font": {
           "color": "#f2f5fa"
          },
          "geo": {
           "bgcolor": "rgb(17,17,17)",
           "lakecolor": "rgb(17,17,17)",
           "landcolor": "rgb(17,17,17)",
           "showlakes": true,
           "showland": true,
           "subunitcolor": "#506784"
          },
          "hoverlabel": {
           "align": "left"
          },
          "hovermode": "closest",
          "mapbox": {
           "style": "dark"
          },
          "paper_bgcolor": "rgb(17,17,17)",
          "plot_bgcolor": "rgb(17,17,17)",
          "polar": {
           "angularaxis": {
            "gridcolor": "#506784",
            "linecolor": "#506784",
            "ticks": ""
           },
           "bgcolor": "rgb(17,17,17)",
           "radialaxis": {
            "gridcolor": "#506784",
            "linecolor": "#506784",
            "ticks": ""
           }
          },
          "scene": {
           "xaxis": {
            "backgroundcolor": "rgb(17,17,17)",
            "gridcolor": "#506784",
            "gridwidth": 2,
            "linecolor": "#506784",
            "showbackground": true,
            "ticks": "",
            "zerolinecolor": "#C8D4E3"
           },
           "yaxis": {
            "backgroundcolor": "rgb(17,17,17)",
            "gridcolor": "#506784",
            "gridwidth": 2,
            "linecolor": "#506784",
            "showbackground": true,
            "ticks": "",
            "zerolinecolor": "#C8D4E3"
           },
           "zaxis": {
            "backgroundcolor": "rgb(17,17,17)",
            "gridcolor": "#506784",
            "gridwidth": 2,
            "linecolor": "#506784",
            "showbackground": true,
            "ticks": "",
            "zerolinecolor": "#C8D4E3"
           }
          },
          "shapedefaults": {
           "line": {
            "color": "#f2f5fa"
           }
          },
          "sliderdefaults": {
           "bgcolor": "#C8D4E3",
           "bordercolor": "rgb(17,17,17)",
           "borderwidth": 1,
           "tickwidth": 0
          },
          "ternary": {
           "aaxis": {
            "gridcolor": "#506784",
            "linecolor": "#506784",
            "ticks": ""
           },
           "baxis": {
            "gridcolor": "#506784",
            "linecolor": "#506784",
            "ticks": ""
           },
           "bgcolor": "rgb(17,17,17)",
           "caxis": {
            "gridcolor": "#506784",
            "linecolor": "#506784",
            "ticks": ""
           }
          },
          "title": {
           "x": 0.05
          },
          "updatemenudefaults": {
           "bgcolor": "#506784",
           "borderwidth": 0
          },
          "xaxis": {
           "automargin": true,
           "gridcolor": "#283442",
           "linecolor": "#506784",
           "ticks": "",
           "title": {
            "standoff": 15
           },
           "zerolinecolor": "#283442",
           "zerolinewidth": 2
          },
          "yaxis": {
           "automargin": true,
           "gridcolor": "#283442",
           "linecolor": "#506784",
           "ticks": "",
           "title": {
            "standoff": 15
           },
           "zerolinecolor": "#283442",
           "zerolinewidth": 2
          }
         }
        },
        "title": {
         "text": "Relación entre el número de huevos y su precio"
        },
        "xaxis": {
         "autorange": true,
         "range": [
          0.4413696060037523,
          10.558630393996248
         ],
         "title": {
          "text": "Número de huevos"
         },
         "type": "linear"
        },
        "yaxis": {
         "autorange": true,
         "range": [
          205.8252427184466,
          8594.174757281553
         ],
         "title": {
          "text": "Precio de los huevos"
         },
         "type": "linear"
        }
       }
      },
      "image/png": "[encoded data removed]",
      "text/html": [
       "<div>                            <div id=\"424c4c52-4b7f-473c-b4fa-229b6cb66b9d\" class=\"plotly-graph-div\" style=\"height:525px; width:100%;\"></div>            <script type=\"text/javascript\">                require([\"plotly\"], function(Plotly) {                    window.PLOTLYENV=window.PLOTLYENV || {};                                    if (document.getElementById(\"424c4c52-4b7f-473c-b4fa-229b6cb66b9d\")) {                    Plotly.newPlot(                        \"424c4c52-4b7f-473c-b4fa-229b6cb66b9d\",                        [{\"mode\":\"markers\",\"name\":\"Datos\",\"x\":[1,3,10],\"y\":[800.0,2400,8000],\"type\":\"scatter\"},{\"mode\":\"lines\",\"name\":\"L\\u00ednea de ajuste\",\"x\":[1,10],\"y\":[800.0,8000.0],\"type\":\"scatter\"}],                        {\"template\":{\"data\":{\"barpolar\":[{\"marker\":{\"line\":{\"color\":\"rgb(17,17,17)\",\"width\":0.5},\"pattern\":{\"fillmode\":\"overlay\",\"size\":10,\"solidity\":0.2}},\"type\":\"barpolar\"}],\"bar\":[{\"error_x\":{\"color\":\"#f2f5fa\"},\"error_y\":{\"color\":\"#f2f5fa\"},\"marker\":{\"line\":{\"color\":\"rgb(17,17,17)\",\"width\":0.5},\"pattern\":{\"fillmode\":\"overlay\",\"size\":10,\"solidity\":0.2}},\"type\":\"bar\"}],\"carpet\":[{\"aaxis\":{\"endlinecolor\":\"#A2B1C6\",\"gridcolor\":\"#506784\",\"linecolor\":\"#506784\",\"minorgridcolor\":\"#506784\",\"startlinecolor\":\"#A2B1C6\"},\"baxis\":{\"endlinecolor\":\"#A2B1C6\",\"gridcolor\":\"#506784\",\"linecolor\":\"#506784\",\"minorgridcolor\":\"#506784\",\"startlinecolor\":\"#A2B1C6\"},\"type\":\"carpet\"}],\"choropleth\":[{\"colorbar\":{\"outlinewidth\":0,\"ticks\":\"\"},\"type\":\"choropleth\"}],\"contourcarpet\":[{\"colorbar\":{\"outlinewidth\":0,\"ticks\":\"\"},\"type\":\"contourcarpet\"}],\"contour\":[{\"colorbar\":{\"outlinewidth\":0,\"ticks\":\"\"},\"colorscale\":[[0.0,\"#0d0887\"],[0.1111111111111111,\"#46039f\"],[0.2222222222222222,\"#7201a8\"],[0.3333333333333333,\"#9c179e\"],[0.4444444444444444,\"#bd3786\"],[0.5555555555555556,\"#d8576b\"],[0.6666666666666666,\"#ed7953\"],[0.7777777777777778,\"#fb9f3a\"],[0.8888888888888888,\"#fdca26\"],[1.0,\"#f0f921\"]],\"type\":\"contour\"}],\"heatmapgl\":[{\"colorbar\":{\"outlinewidth\":0,\"ticks\":\"\"},\"colorscale\":[[0.0,\"#0d0887\"],[0.1111111111111111,\"#46039f\"],[0.2222222222222222,\"#7201a8\"],[0.3333333333333333,\"#9c179e\"],[0.4444444444444444,\"#bd3786\"],[0.5555555555555556,\"#d8576b\"],[0.6666666666666666,\"#ed7953\"],[0.7777777777777778,\"#fb9f3a\"],[0.8888888888888888,\"#fdca26\"],[1.0,\"#f0f921\"]],\"type\":\"heatmapgl\"}],\"heatmap\":[{\"colorbar\":{\"outlinewidth\":0,\"ticks\":\"\"},\"colorscale\":[[0.0,\"#0d0887\"],[0.1111111111111111,\"#46039f\"],[0.2222222222222222,\"#7201a8\"],[0.3333333333333333,\"#9c179e\"],[0.4444444444444444,\"#bd3786\"],[0.5555555555555556,\"#d8576b\"],[0.6666666666666666,\"#ed7953\"],[0.7777777777777778,\"#fb9f3a\"],[0.8888888888888888,\"#fdca26\"],[1.0,\"#f0f921\"]],\"type\":\"heatmap\"}],\"histogram2dcontour\":[{\"colorbar\":{\"outlinewidth\":0,\"ticks\":\"\"},\"colorscale\":[[0.0,\"#0d0887\"],[0.1111111111111111,\"#46039f\"],[0.2222222222222222,\"#7201a8\"],[0.3333333333333333,\"#9c179e\"],[0.4444444444444444,\"#bd3786\"],[0.5555555555555556,\"#d8576b\"],[0.6666666666666666,\"#ed7953\"],[0.7777777777777778,\"#fb9f3a\"],[0.8888888888888888,\"#fdca26\"],[1.0,\"#f0f921\"]],\"type\":\"histogram2dcontour\"}],\"histogram2d\":[{\"colorbar\":{\"outlinewidth\":0,\"ticks\":\"\"},\"colorscale\":[[0.0,\"#0d0887\"],[0.1111111111111111,\"#46039f\"],[0.2222222222222222,\"#7201a8\"],[0.3333333333333333,\"#9c179e\"],[0.4444444444444444,\"#bd3786\"],[0.5555555555555556,\"#d8576b\"],[0.6666666666666666,\"#ed7953\"],[0.7777777777777778,\"#fb9f3a\"],[0.8888888888888888,\"#fdca26\"],[1.0,\"#f0f921\"]],\"type\":\"histogram2d\"}],\"histogram\":[{\"marker\":{\"pattern\":{\"fillmode\":\"overlay\",\"size\":10,\"solidity\":0.2}},\"type\":\"histogram\"}],\"mesh3d\":[{\"colorbar\":{\"outlinewidth\":0,\"ticks\":\"\"},\"type\":\"mesh3d\"}],\"parcoords\":[{\"line\":{\"colorbar\":{\"outlinewidth\":0,\"ticks\":\"\"}},\"type\":\"parcoords\"}],\"pie\":[{\"automargin\":true,\"type\":\"pie\"}],\"scatter3d\":[{\"line\":{\"colorbar\":{\"outlinewidth\":0,\"ticks\":\"\"}},\"marker\":{\"colorbar\":{\"outlinewidth\":0,\"ticks\":\"\"}},\"type\":\"scatter3d\"}],\"scattercarpet\":[{\"marker\":{\"colorbar\":{\"outlinewidth\":0,\"ticks\":\"\"}},\"type\":\"scattercarpet\"}],\"scattergeo\":[{\"marker\":{\"colorbar\":{\"outlinewidth\":0,\"ticks\":\"\"}},\"type\":\"scattergeo\"}],\"scattergl\":[{\"marker\":{\"line\":{\"color\":\"#283442\"}},\"type\":\"scattergl\"}],\"scattermapbox\":[{\"marker\":{\"colorbar\":{\"outlinewidth\":0,\"ticks\":\"\"}},\"type\":\"scattermapbox\"}],\"scatterpolargl\":[{\"marker\":{\"colorbar\":{\"outlinewidth\":0,\"ticks\":\"\"}},\"type\":\"scatterpolargl\"}],\"scatterpolar\":[{\"marker\":{\"colorbar\":{\"outlinewidth\":0,\"ticks\":\"\"}},\"type\":\"scatterpolar\"}],\"scatter\":[{\"marker\":{\"line\":{\"color\":\"#283442\"}},\"type\":\"scatter\"}],\"scatterternary\":[{\"marker\":{\"colorbar\":{\"outlinewidth\":0,\"ticks\":\"\"}},\"type\":\"scatterternary\"}],\"surface\":[{\"colorbar\":{\"outlinewidth\":0,\"ticks\":\"\"},\"colorscale\":[[0.0,\"#0d0887\"],[0.1111111111111111,\"#46039f\"],[0.2222222222222222,\"#7201a8\"],[0.3333333333333333,\"#9c179e\"],[0.4444444444444444,\"#bd3786\"],[0.5555555555555556,\"#d8576b\"],[0.6666666666666666,\"#ed7953\"],[0.7777777777777778,\"#fb9f3a\"],[0.8888888888888888,\"#fdca26\"],[1.0,\"#f0f921\"]],\"type\":\"surface\"}],\"table\":[{\"cells\":{\"fill\":{\"color\":\"#506784\"},\"line\":{\"color\":\"rgb(17,17,17)\"}},\"header\":{\"fill\":{\"color\":\"#2a3f5f\"},\"line\":{\"color\":\"rgb(17,17,17)\"}},\"type\":\"table\"}]},\"layout\":{\"annotationdefaults\":{\"arrowcolor\":\"#f2f5fa\",\"arrowhead\":0,\"arrowwidth\":1},\"autotypenumbers\":\"strict\",\"coloraxis\":{\"colorbar\":{\"outlinewidth\":0,\"ticks\":\"\"}},\"colorscale\":{\"diverging\":[[0,\"#8e0152\"],[0.1,\"#c51b7d\"],[0.2,\"#de77ae\"],[0.3,\"#f1b6da\"],[0.4,\"#fde0ef\"],[0.5,\"#f7f7f7\"],[0.6,\"#e6f5d0\"],[0.7,\"#b8e186\"],[0.8,\"#7fbc41\"],[0.9,\"#4d9221\"],[1,\"#276419\"]],\"sequential\":[[0.0,\"#0d0887\"],[0.1111111111111111,\"#46039f\"],[0.2222222222222222,\"#7201a8\"],[0.3333333333333333,\"#9c179e\"],[0.4444444444444444,\"#bd3786\"],[0.5555555555555556,\"#d8576b\"],[0.6666666666666666,\"#ed7953\"],[0.7777777777777778,\"#fb9f3a\"],[0.8888888888888888,\"#fdca26\"],[1.0,\"#f0f921\"]],\"sequentialminus\":[[0.0,\"#0d0887\"],[0.1111111111111111,\"#46039f\"],[0.2222222222222222,\"#7201a8\"],[0.3333333333333333,\"#9c179e\"],[0.4444444444444444,\"#bd3786\"],[0.5555555555555556,\"#d8576b\"],[0.6666666666666666,\"#ed7953\"],[0.7777777777777778,\"#fb9f3a\"],[0.8888888888888888,\"#fdca26\"],[1.0,\"#f0f921\"]]},\"colorway\":[\"#636efa\",\"#EF553B\",\"#00cc96\",\"#ab63fa\",\"#FFA15A\",\"#19d3f3\",\"#FF6692\",\"#B6E880\",\"#FF97FF\",\"#FECB52\"],\"font\":{\"color\":\"#f2f5fa\"},\"geo\":{\"bgcolor\":\"rgb(17,17,17)\",\"lakecolor\":\"rgb(17,17,17)\",\"landcolor\":\"rgb(17,17,17)\",\"showlakes\":true,\"showland\":true,\"subunitcolor\":\"#506784\"},\"hoverlabel\":{\"align\":\"left\"},\"hovermode\":\"closest\",\"mapbox\":{\"style\":\"dark\"},\"paper_bgcolor\":\"rgb(17,17,17)\",\"plot_bgcolor\":\"rgb(17,17,17)\",\"polar\":{\"angularaxis\":{\"gridcolor\":\"#506784\",\"linecolor\":\"#506784\",\"ticks\":\"\"},\"bgcolor\":\"rgb(17,17,17)\",\"radialaxis\":{\"gridcolor\":\"#506784\",\"linecolor\":\"#506784\",\"ticks\":\"\"}},\"scene\":{\"xaxis\":{\"backgroundcolor\":\"rgb(17,17,17)\",\"gridcolor\":\"#506784\",\"gridwidth\":2,\"linecolor\":\"#506784\",\"showbackground\":true,\"ticks\":\"\",\"zerolinecolor\":\"#C8D4E3\"},\"yaxis\":{\"backgroundcolor\":\"rgb(17,17,17)\",\"gridcolor\":\"#506784\",\"gridwidth\":2,\"linecolor\":\"#506784\",\"showbackground\":true,\"ticks\":\"\",\"zerolinecolor\":\"#C8D4E3\"},\"zaxis\":{\"backgroundcolor\":\"rgb(17,17,17)\",\"gridcolor\":\"#506784\",\"gridwidth\":2,\"linecolor\":\"#506784\",\"showbackground\":true,\"ticks\":\"\",\"zerolinecolor\":\"#C8D4E3\"}},\"shapedefaults\":{\"line\":{\"color\":\"#f2f5fa\"}},\"sliderdefaults\":{\"bgcolor\":\"#C8D4E3\",\"bordercolor\":\"rgb(17,17,17)\",\"borderwidth\":1,\"tickwidth\":0},\"ternary\":{\"aaxis\":{\"gridcolor\":\"#506784\",\"linecolor\":\"#506784\",\"ticks\":\"\"},\"baxis\":{\"gridcolor\":\"#506784\",\"linecolor\":\"#506784\",\"ticks\":\"\"},\"bgcolor\":\"rgb(17,17,17)\",\"caxis\":{\"gridcolor\":\"#506784\",\"linecolor\":\"#506784\",\"ticks\":\"\"}},\"title\":{\"x\":0.05},\"updatemenudefaults\":{\"bgcolor\":\"#506784\",\"borderwidth\":0},\"xaxis\":{\"automargin\":true,\"gridcolor\":\"#283442\",\"linecolor\":\"#506784\",\"ticks\":\"\",\"title\":{\"standoff\":15},\"zerolinecolor\":\"#283442\",\"zerolinewidth\":2},\"yaxis\":{\"automargin\":true,\"gridcolor\":\"#283442\",\"linecolor\":\"#506784\",\"ticks\":\"\",\"title\":{\"standoff\":15},\"zerolinecolor\":\"#283442\",\"zerolinewidth\":2}}},\"title\":{\"text\":\"Relaci\\u00f3n entre el n\\u00famero de huevos y su precio\"},\"xaxis\":{\"title\":{\"text\":\"N\\u00famero de huevos\"}},\"yaxis\":{\"title\":{\"text\":\"Precio de los huevos\"}}},                        {\"responsive\": true}                    ).then(function(){\n",
       "                            \n",
       "var gd = document.getElementById('424c4c52-4b7f-473c-b4fa-229b6cb66b9d');\n",
       "var x = new MutationObserver(function (mutations, observer) {{\n",
       "        var display = window.getComputedStyle(gd).display;\n",
       "        if (!display || display === 'none') {{\n",
       "            console.log([gd, 'removed!']);\n",
       "            Plotly.purge(gd);\n",
       "            observer.disconnect();\n",
       "        }}\n",
       "}});\n",
       "\n",
       "// Listen for the removal of the full notebook cells\n",
       "var notebookContainer = gd.closest('#notebook-container');\n",
       "if (notebookContainer) {{\n",
       "    x.observe(notebookContainer, {childList: true});\n",
       "}}\n",
       "\n",
       "// Listen for the clearing of the current output cell\n",
       "var outputEl = gd.closest('.output');\n",
       "if (outputEl) {{\n",
       "    x.observe(outputEl, {childList: true});\n",
       "}}\n",
       "\n",
       "                        })                };                });            </script>        </div>"
      ]
     },
     "metadata": {},
     "output_type": "display_data"
    }
   ],
   "source": [
    "import plotly.graph_objects as go\n",
    "\n",
    "# Datos\n",
    "num_huevos = [1, 3, 10]\n",
    "precio_huevos = [5600/7, 2400, 8000]\n",
    "\n",
    "# Calcular la pendiente\n",
    "pendiente = (precio_huevos[-1] - precio_huevos[0]) / (num_huevos[-1] - num_huevos[0])\n",
    "\n",
    "# Calcular la ecuación de la línea\n",
    "def ecuacion_lineal(x):\n",
    "    return pendiente * (x - num_huevos[0]) + precio_huevos[0]\n",
    "\n",
    "# Crear la figura\n",
    "fig = go.Figure()\n",
    "\n",
    "# Añadir puntos de datos\n",
    "fig.add_trace(go.Scatter(\n",
    "    x=num_huevos,\n",
    "    y=precio_huevos,\n",
    "    mode='markers',\n",
    "    name='Datos',\n",
    "))\n",
    "\n",
    "# Añadir la línea de ajuste\n",
    "fig.add_trace(go.Scatter(\n",
    "    x=[min(num_huevos), max(num_huevos)],\n",
    "    y=[ecuacion_lineal(min(num_huevos)), ecuacion_lineal(max(num_huevos))],\n",
    "    mode='lines',\n",
    "    name='Línea de ajuste',\n",
    "))\n",
    "\n",
    "# Configurar el diseño\n",
    "fig.update_layout(\n",
    "    title='Relación entre el número de huevos y su precio',\n",
    "    xaxis=dict(title='Número de huevos'),\n",
    "    yaxis=dict(title='Precio de los huevos'),\n",
    "    template='plotly_dark' # Establecer el tema oscuro\n",
    ")\n",
    "fig.write_image('modelo_financiero_sencillo.jpg')\n",
    "# Mostrar la figura interactiva\n",
    "fig.show()\n"
   ]
  },
  {
   "cell_type": "markdown",
   "metadata": {
    "id": "3qTTgASocOuM"
   },
   "source": [
    "M =  velocidad de cambio\n",
    "\n",
    "B = Intersecto\n",
    "\n",
    "$$ P = P(X)= (precio unirtario) * (Cantidad)$$\n",
    "$$ P = P(X)= 800X = MX+B$$\n",
    "\n",
    "\n"
   ]
  },
  {
   "cell_type": "markdown",
   "metadata": {
    "id": "90QAWgwjfZm9"
   },
   "source": [
    "CONCLUSIONES\n",
    "\n",
    "1- funciones lineales\n",
    "\n",
    "2- La velocidad de cambio de las funciones lineales es constante\n",
    "\n",
    "3- La velocidad de cambio de las funciones es la pendiente\n",
    "\n",
    "4- F(x+h) - F(x)/h = Velocidad de cambio = M"
   ]
  },
  {
   "cell_type": "markdown",
   "metadata": {
    "id": "8z8aAgcRxSuL"
   },
   "source": [
    "I = I(X) = 3X - x²/2000"
   ]
  },
  {
   "cell_type": "code",
   "execution_count": 14,
   "metadata": {
    "colab": {
     "base_uri": "https://localhost:8080/",
     "height": 564,
     "referenced_widgets": [
      "7cfc2dbed59c44d89614030abde1fe0e",
      "a308a310ff2c48e3bdd71f1c3280317a",
      "1f7719641fb84660991d47e3e8aa3aca",
      "6f6d6ffbf91f496b879f4b0a160f35d7",
      "0c4a090c9b674595ae57051ac4ee7386",
      "a5c4825df7a64d55a07a94070a3acbf2",
      "ef3f6e1baa654e8eb1a7a6d2ed8d66fc"
     ]
    },
    "executionInfo": {
     "elapsed": 427,
     "status": "ok",
     "timestamp": 1712331684489,
     "user": {
      "displayName": "ELIACIB VIDAL QUINTERO",
      "userId": "08678936630956307572"
     },
     "user_tz": 300
    },
    "id": "TqvisSYL6jby",
    "outputId": "5aa38fe0-e45c-4761-fa7c-aa619d7e0329"
   },
   "outputs": [
    {
     "data": {
      "image/png": "[encoded data removed]",
      "text/plain": [
       "<Figure size 1000x600 with 1 Axes>"
      ]
     },
     "metadata": {},
     "output_type": "display_data"
    }
   ],
   "source": [
    "import numpy as np\n",
    "import matplotlib.pyplot as plt\n",
    "from ipywidgets import interact\n",
    "\n",
    "def I(X):\n",
    "    return 3*X - (X**2)/20000\n",
    "\n",
    "X_values = np.linspace(0, 70000, 1000)\n",
    "Y_values = I(X_values)\n",
    "\n",
    "def plot_function(scale):\n",
    "    plt.figure(figsize=(10, 6))\n",
    "    plt.plot(X_values, Y_values, label='I(X) = 3X - X^2/20000', color='blue')\n",
    "    plt.xlabel('X')\n",
    "    plt.ylabel('I(X)')\n",
    "    plt.title('Gráfica de I(X)')\n",
    "    plt.grid(True)\n",
    "    plt.xlim(0, 70000)  # Ajuste del límite del eje X\n",
    "    plt.ylim(0, 70000)  # Ajuste del límite del eje Y\n",
    "    plt.legend()\n",
    "    plt.show()\n",
    "\n",
    "interact(plot_function, scale=(0, 70000, 1000))\n"
   ]
  },
  {
   "cell_type": "markdown",
   "metadata": {
    "id": "x9xIxYT4Bwua"
   },
   "source": [
    "$$I = (20000) - 1(10000) $$\n",
    "\n",
    "$$I(X) = 3X - x²/20000$$\n",
    "\n",
    "\n",
    "\n",
    "\n",
    "$$3(20000) - (20000)²/20000$$\n",
    "\n",
    "$$60000 - 20000 = 40000$$\n",
    "\n",
    "\n",
    "$$3(10000) - (10000)²/20000$$\n",
    "\n",
    "$$30000 - 5000 = 25000$$\n",
    "\n",
    "CALCULAR LA VELOCIDAD DE CAMBIO\n",
    "\n",
    "$$20000 - 10000 = 10000$$\n",
    "\n",
    "$$40000 - 25000 = 15000$$\n",
    "\n",
    "$$15000/10000= 1.5 $$\n",
    "\n",
    "Tasa de cambio\n"
   ]
  }
 ],
 "metadata": {
  "colab": {
   "authorship_tag": "ABX9TyN80uxJFL1B0Kq+qgMtCajh",
   "provenance": []
  },
  "kernelspec": {
   "display_name": "Python 3 (ipykernel)",
   "language": "python",
   "name": "python3"
  },
  "language_info": {
   "codemirror_mode": {
    "name": "ipython",
    "version": 3
   },
   "file_extension": ".py",
   "mimetype": "text/x-python",
   "name": "python",
   "nbconvert_exporter": "python",
   "pygments_lexer": "ipython3",
   "version": "3.10.12"
  },
  "widgets": {
   "application/vnd.jupyter.widget-state+json": {
    "0c4a090c9b674595ae57051ac4ee7386": {
     "model_module": "@jupyter-widgets/base",
     "model_module_version": "1.2.0",
     "model_name": "LayoutModel",
     "state": {
      "_model_module": "@jupyter-widgets/base",
      "_model_module_version": "1.2.0",
      "_model_name": "LayoutModel",
      "_view_count": null,
      "_view_module": "@jupyter-widgets/base",
      "_view_module_version": "1.2.0",
      "_view_name": "LayoutView",
      "align_content": null,
      "align_items": null,
      "align_self": null,
      "border": null,
      "bottom": null,
      "display": null,
      "flex": null,
      "flex_flow": null,
      "grid_area": null,
      "grid_auto_columns": null,
      "grid_auto_flow": null,
      "grid_auto_rows": null,
      "grid_column": null,
      "grid_gap": null,
      "grid_row": null,
      "grid_template_areas": null,
      "grid_template_columns": null,
      "grid_template_rows": null,
      "height": null,
      "justify_content": null,
      "justify_items": null,
      "left": null,
      "margin": null,
      "max_height": null,
      "max_width": null,
      "min_height": null,
      "min_width": null,
      "object_fit": null,
      "object_position": null,
      "order": null,
      "overflow": null,
      "overflow_x": null,
      "overflow_y": null,
      "padding": null,
      "right": null,
      "top": null,
      "visibility": null,
      "width": null
     }
    },
    "1f7719641fb84660991d47e3e8aa3aca": {
     "model_module": "@jupyter-widgets/output",
     "model_module_version": "1.0.0",
     "model_name": "OutputModel",
     "state": {
      "_dom_classes": [],
      "_model_module": "@jupyter-widgets/output",
      "_model_module_version": "1.0.0",
      "_model_name": "OutputModel",
      "_view_count": null,
      "_view_module": "@jupyter-widgets/output",
      "_view_module_version": "1.0.0",
      "_view_name": "OutputView",
      "layout": "IPY_MODEL_ef3f6e1baa654e8eb1a7a6d2ed8d66fc",
      "msg_id": "",
      "outputs": [
       {
        "data": {
         "image/png": "iVBORw0KGgoAAAANSUhEUgAAA3oAAAIjCAYAAABVpWnzAAAAOXRFWHRTb2Z0d2FyZQBNYXRwbG90bGliIHZlcnNpb24zLjcuMSwgaHR0cHM6Ly9tYXRwbG90bGliLm9yZy/bCgiHAAAACXBIWXMAAA9hAAAPYQGoP6dpAACH70lEQVR4nOzde3zO9f/H8ee184YZYiPHIsz5kFmp0BjWQakkCTk3xAopOXUg5VROhdC35FBRIZqzspQhp0glKjbHbY47fn5/fH67WEPGts91XXvcb7fr1uf6fN7XdT13vV1rr+vz/rzfNsMwDAEAAAAAXIab1QEAAAAAALmLQg8AAAAAXAyFHgAAAAC4GAo9AAAAAHAxFHoAAAAA4GIo9AAAAADAxVDoAQAAAICLodADAAAAABdDoQcAcAmrV6/WG2+8ofPnz1sdBQAAy1HoAQCc3m+//aZ27dopMDBQfn5+2Y6vXLlSdevWlY+Pj2w2mxISEtSlSxdVrFgx/8NeQX5madOmjXr06HFDj01NTVW5cuU0bdq0XE4FAMhtFHoAgHx18OBB9e3bV3fccYf8/Pzk5+en4OBgRUZGaufOnTl+vuTkZD3xxBPq16+funfvnu34yZMn9cQTT8jX11dTp07V//73PxUqVCg3fhSHNXLkSNlsNp04cSLL/u+//17ffvuthgwZYt83bNgw2Ww2rV+/PtvzLFiwQDabTVOmTJEkeXp6KioqSm+88YYuXryYpz8DAODm2AzDMKwOAQAoGJYtW6b27dvLw8NDHTt2VJ06deTm5qZ9+/bpiy++0KFDh3Tw4EFVqFDhup9z27Zt+v7779WvX78rHl+5cqVat26t6OhohYWF2fenpqYqIyND3t7eN/1z3awuXbpo/fr1+vPPP3Pl+UaOHKlRo0bp+PHjuuWWW+z727ZtqwsXLmjVqlX2fRcvXlTNmjXl4eGhnTt3ysvLS5KUkJCg6tWrq1y5cvrhhx/k5uZm3x8YGKjp06fr2WefzZW8AIDc52F1AABAwfD777/rySefVIUKFbRmzRqVLl06y/G33npL06ZNsxcUV3Pu3LksZ+Tq16+v+vXrX7X9sWPHJEkBAQFZ9nt6eubwJ3Bux44d0/LlyzVjxows+318fDR9+nS1bNlSY8aM0YgRIyRJL730ko4fP65vvvkmS58EBASoZcuWmjt3LoUeADgwhm4CAPLFuHHjdO7cOc2ZMydbkSdJHh4e6t+/v8qVK2ff16VLFxUuXFi///672rRpoyJFiqhjx46SpE2bNunxxx9X+fLl5e3trXLlymngwIG6cOGC/fFNmzZV586dJUl33nmnbDabunTpYn/uf18Xl5GRocmTJ6tWrVry8fFRyZIl1apVK23dutXeZs6cOWrevLlKlSolb29vBQcHa/r06df9PixdulQ1a9aUj4+PatasqSVLllyxXUZGhiZNmqQaNWrIx8dHgYGB6tWrl06fPn3dr3W55cuXKy0tLctZzUwtWrTQU089pTFjxujXX39VTEyMPvjgAz3//POqW7fuFdt/9913OnXq1A1lAQDkPc7oAQDyxbJly1S5cmWFhITk6HFpaWkKDw9XkyZN9M4779gnW1m8eLHOnTunPn36qESJEtqyZYvee+89/f3331q8eLEk6ZVXXlHVqlX1wQcfaPTo0apUqZJuv/32q75Wt27dNHfuXLVu3Vrdu3dXWlqaNm3apB9++EENGzaUJE2fPl01atTQQw89JA8PD3399dd67rnnlJGRocjIyGv+LN9++63atWun4OBgjRkzRidPnlTXrl1VtmzZbG179eqluXPnqmvXrurfv78OHjyoKVOmaPv27fr+++9zfEZy8+bNKlGixFWHxU6YMEHffPONevXqpZMnT6ps2bIaNWrUFds2aNBAhmFo8+bNeuCBB3KUAwCQTwwAAPJYYmKiIclo27ZttmOnT582jh8/br+dP3/efqxz586GJOOll17K9rizZ89m2/f6668bNpvNOHTokH3fnDlzDEnGTz/9lKVt586djQoVKtjvr1271pBk9O/fP9vzZmRk2Lcvz5cpPDzcuO2227Lt/7e6desapUuXNhISEuz7vv32W0NSliybNm0yJBmffPJJlsevXLnyivv/bcSIEYYk4/jx4/Z9TZo0MRo0aHDNx73//vuGJEOSsXTp0qu2O3LkiCHJeOutt675fAAA6zB0EwCQ55KSkiRJhQsXznasadOmKlmypP02derUbG369OmTbd/l1+llZGTo4sWLCg8Pl2EY2r59e44zfv7557LZbPZr1C5ns9ns276+vvbtxMREnThxQvfdd5/++OMPJSYmXvX5jx49qh07dqhz584qWrSofX+LFi0UHBycpe3ixYtVtGhRtWjRQidOnLDfGjRooMKFC2vdunU5/vlOnjypYsWKXbNN5sQtfn5+atKkyVXbZT7Pv2f1BAA4Dgo9AECeK1KkiCTp7Nmz2Y69//77io6O1scff3zFx3p4eFxxaOORI0f03HPPqVy5cvLy8pKvr6/uvPNOSbpmwXU1v//+u8qUKaPixYtfs93333+vsLAwFSpUSAEBASpZsqRefvnl/3zdQ4cOSZKqVKmS7VjVqlWz3D9w4IASExNVqlSpLEVwyZIldfbsWfsEMzllXGOi7TNnzqh///6qWrWqUlJSsizBcLXnubwABgA4Fq7RAwDkuaJFi6p06dLavXt3tmOZ1+xdbWkBb2/vbDNxZmRkqEWLFjp58qReeeUVBQcHq1ChQvrrr7/0xBNPKCMjI9d/BsksBu+//35Vq1ZNEyZMsBeZK1as0MSJE3PtdTMyMlSqVCl98sknVzxesmTJHD9niRIlrjmRyyuvvKK4uDj9+OOPWrBggd555x117dpVd999d7a2mc9z+dINAADHQqEHAMgXERERmjVrln788Uc1atTopp5r165d2rt3rz7++GP7LJzSpSGiN+L222/XqlWrdOrUqaue1fv666+VnJysr776SuXLl7fvv56hlJmToBw4cCDbsf3792fLsnr1at19991ZhorejGrVqunzzz+/4rGtW7dq6tSp6tevn+rXr6+qVatq4cKF6t27t7Zv3y4Pj6x/Lhw8eFCSVL169VzJBgDIfQzdBADki8GDB8vPz0/PPvus4uPjsx2/1rDCf8scMpiammrfl5GRoYkTJ95wvnbt2skwjCvONJmZzd3dPVvWxMREzZkz5z+fv3Tp0qpbt67mzZuXZYhndHS09u7dm6XtE088ofT0dL322mvZnictLU0JCQnX9TNdLjQ0VKdPn9Yff/yRZX96erp69eql0qVL21+vUKFCeu+997R79+4rvqexsbGy2WwKDQ3NcQ4AQP7gjB4AIF9UqVJF8+fPV4cOHVS1alV17NhRderUkWEYOnjwoObPny83N7crXo/3b9WrV9dtt92mF198UUeOHFGRIkX0+eef39QZvWbNmqlTp0569913deDAAbVq1UoZGRnatGmTmjVrpr59+6ply5by8vLSgw8+qF69euns2bOaOXOmSpUqpaNHj/7na4wZM0YRERFq0qSJnn32WZ06dUrvvfeeatSokeX6xfvuu0+9evXSmDFjtGPHDrVs2VKenp46cOCAFi9erMmTJ+uxxx7L0c8XEREhDw8PrV69Wj179rTvf/fdd7Vt2zZ9/vnn9mspJemhhx7SQw89pFGjRql9+/ZZzmBGR0fr7rvvVokSJXKUAQCQj6yb8BMAUBD99ttvRp8+fYzKlSsbPj4+hq+vr1GtWjWjd+/exo4dO7K07dy5s1GoUKErPs/u3buN5s2bG4ULFzZKlixp9O7d29i1a5chyZgzZ4693fUur2AYhpGWlma8/fbbRrVq1QwvLy+jZMmSRuvWrY3Y2Fh7m6+++sqoXbu24ePjY1SsWNF46623jA8//NCQZBw8ePA/f/7PP//cqF69uuHt7W0EBwcbX3zxxRWzGIZhfPDBB0aDBg0MX19fo0iRIkatWrWMwYMHG0eOHLnma1xpeQXDMIyHHnrIuP/+++33//rrL6Nw4cLGAw88cMXnOXTokFGoUCHjoYcesu9LSEgwvLy8jFmzZv3nzwoAsI7NMHIwVgYAADitTZs2qWnTptq3b98VZ/+8HpMmTdK4ceP0+++/59r1gwCA3EehBwBAAdK6dWuVLVtWM2fOzPFjU1NTdfvtt+ull17Sc889lwfpAAC5hUIPAAAAAFwMs24CAAAAgIuxtNCrWLGibDZbtltkZKQk6eLFi4qMjFSJEiVUuHBhtWvXLtuU3IcPH1ZERIT8/PxUqlQpDRo0SGlpaVnarF+/XvXr15e3t7cqV66suXPnZssydepUVaxYUT4+PgoJCdGPP/6YZz83AAAAAOQlSwu9n376SUePHrXfoqOjJUmPP/64JGngwIH6+uuvtXjxYm3YsEFHjhzRo48+an98enq6IiIilJKSos2bN2vevHmaO3euhg8fbm9z8OBBRUREqFmzZtqxY4cGDBig7t27a9WqVfY2CxcuVFRUlEaMGKFt27apTp06Cg8P17Fjx/LpnQAAAACA3ONQ1+gNGDBAy5Yt04EDB5SUlKSSJUtq/vz59rWC9u3bp+rVqysmJkaNGzfWN998owceeEBHjhxRYGCgJGnGjBkaMmSIjh8/Li8vLw0ZMkTLly/X7t277a/z5JNPKiEhQStXrpQkhYSE6M4779SUKVMkmYvulitXTv369dNLL72Uz+8CAAAAANwch1kwPSUlRR9//LGioqJks9kUGxur1NRUhYWF2dtUq1ZN5cuXtxd6MTExqlWrlr3Ik6Tw8HD16dNHe/bsUb169RQTE5PlOTLbDBgwwP66sbGxGjp0qP24m5ubwsLCFBMTc9W8ycnJSk5Ott/PyMjQqVOnVKJECdlstpt9OwAAAAA4KcMwdObMGZUpU0ZubtYMonSYQm/p0qVKSEhQly5dJElxcXHy8vJSQEBAlnaBgYGKi4uzt7m8yMs8nnnsWm2SkpJ04cIFnT59Wunp6Vdss2/fvqvmHTNmjEaNGpXjnxMAAABAwfDXX3+pbNmylry2wxR6s2fPVuvWrVWmTBmro1yXoUOHKioqyn4/MTFR5cuX16+//qrixYtbmAw5lZqaqnXr1qlZs2by9PS0Og5ygL5zTvSb86LvnBd955zoN+d16tQp3XHHHSpSpIhlGRyi0Dt06JBWr16tL774wr4vKChIKSkpSkhIyHJWLz4+XkFBQfY2/54dM3NWzsvb/Humzvj4ePn7+8vX11fu7u5yd3e/YpvM57gSb29veXt7Z9tfvHhxlShR4jp+ajiK1NRU+fn5qUSJEvwSdTL0nXOi35wXfee86DvnRL85Pysv6XKIdfTmzJmjUqVKKSIiwr6vQYMG8vT01Jo1a+z79u/fr8OHDys0NFSSFBoaql27dmWZHTM6Olr+/v4KDg62t7n8OTLbZD6Hl5eXGjRokKVNRkaG1qxZY28DAAAAAM7E8jN6GRkZmjNnjjp37iwPj0txihYtqm7duikqKkrFixeXv7+/+vXrp9DQUDVu3FiS1LJlSwUHB6tTp04aN26c4uLiNGzYMEVGRtrPtvXu3VtTpkzR4MGD9eyzz2rt2rVatGiRli9fbn+tqKgode7cWQ0bNlSjRo00adIknTt3Tl27ds3fNwMAAAAAcoHlhd7q1at1+PBhPfvss9mOTZw4UW5ubmrXrp2Sk5MVHh6uadOm2Y+7u7tr2bJl6tOnj0JDQ1WoUCF17txZo0ePtrepVKmSli9froEDB2ry5MkqW7asZs2apfDwcHub9u3b6/jx4xo+fLji4uJUt25drVy5MtsELQAAAADgDCwv9Fq2bKmrLeXn4+OjqVOnaurUqVd9fIUKFbRixYprvkbTpk21ffv2a7bp27ev+vbt+9+BAQAAXJhhGEpLS1N6errVUQq81NRUeXh46OLFi/SHg3F3d5eHh4dDL6tmeaEHAAAAx5CSkqKjR4/q/PnzVkeBzKI7KChIf/31l0MXFAWVn5+fSpcuLS8vL6ujXBGFHgAAAJSRkaGDBw/K3d1dZcqUkZeXF8WFxTIyMnT27FkVLlzYskW3kZ1hGEpJSdHx48d18OBBValSxSH7h0IPAAAASklJUUZGhsqVKyc/Pz+r40BmoZeSkiIfHx+HLCQKMl9fX3l6eurQoUP2PnI0/IsBAACAHQUFcH0c/bPi2OkAAAAAADlGoQcAAAAALoZCDwAAAC7n5MmTKlWqlP78888cPe7JJ5/U+PHj8yaUE/vhhx9UuHBhlSpVSr/++qvVcXAdKPQAAADg1Lp06aK2bdtm2ffGG2/o4YcfVsWKFSVJK1askJeXl7Zt25al3fjx43XLLbcoLi5OkjRs2DC98cYbSkxMzNPMvXr10u233y5fX1+VLFlSDz/8sPbt22c/vmLFCvn4+Ojnn3++Zt4b8fPPP8vLy0tfffVVlv2ff/65fHx8tHv37iz79+zZozZt2qhr166655571LJlS/3zzz9Z2pw6dUr9+vVT1apV5evrq/Lly6t///5XfB8PHTokX19fnT17VjNnztQ999yjYsWKqVixYgoLC9OPP/6Ypb1hGBo+fLhKly4tX19fhYWF6cCBA9lev2PHjvL391dAQIC6deums2fPZmmzc+dO3XPPPfLx8VG5cuU0bty4bNkWL16satWqycfHR7Vq1frP9bodGYUeAAAAXMr58+c1e/ZsdevWzb6vTZs2euaZZ/TMM88oOTlZkrR3714NGzZMU6dOVVBQkCSpZs2auv322/Xxxx/nacYGDRpozpw5+uWXX7Rq1SoZhqGWLVvaF0Zv06aNOnXqpN69e18z742oU6eOhg8frp49e+rkyZOSpGPHjql3794aNWqUatasaW/7559/qmXLlurdu7fee+89LVq0yF7snTp1yt7uyJEjOnLkiN555x3t3r1bc+fO1cqVK7P0QaYvv/xSzZo1U+HChbV+/Xp16NBB69atU0xMjMqVK5etkBw3bpzeffddzZgxQ1u2bFGhQoUUHh6uixcv2tt07NhRe/bsUXR0tJYtW6aNGzeqZ8+e9uNJSUlq2bKlKlSooNjYWL399tsaOXKkPvjgA3ubzZs3q0OHDurWrZu2b9+utm3bqm3bttkKX6dhIFckJiYakowTJ05YHQU5lJKSYixdutRISUmxOgpyiL5zTvSb86LvnNf19N2FCxeMvXv3GhcuXLDvy8gwjLNnrbllZFz/z9e5c2fj4Ycftt9fvHixUbJkyWztkpKSjAoVKhhDhgwxUlNTjYYNGxqPP/54tnajRo0ymjRpcv0BcsHPP/9sSDJ+++03+76EhASjXLlyxuDBg6+Z90akpaUZd955p9G+fXvDMAyjbdu2RmhoqJGWlmZvEx8fb1SpUsV44403sjw2PT3d6NWrl9G4cWPj3LlzV32NRYsWGV5eXkZqamqW/c2bNzemT59+1VxFihQx5s2bZxiGYWRkZBhBQUHG22+/bW+TkJBgeHt7G59++qlhGIaxd+9eQ5Lx008/2dt88803hs1mM/755x/DMAxj2rRpRrFixYzk5GR7myFDhhhVq1a133/iiSeMiIiILHlCQkKMXr16XTHrlT4zmU6cOGFIMhITE6/42PzAOnoAAAC4ovPnpcKFrXnts2elQoVu7LGbNm1SgwYNsu0vUqSIPvzwQ4WHh+vgwYP666+/tHLlymztGjVqpDfeeEPJycny9va+4mu0bt1amzZtumqGChUqaM+ePdeV99y5c5ozZ44qVaqkcuXKZck7ZcoUtWvXTn/++edV894Id3d3zZs3T/Xr19dTTz2lVatWaceOHXJ3d7e3udr1eG5ubpoxY8Z/vkZiYqL8/f3l4XGp5EhISNB3332n//3vf1d8zPnz55WamqrixYtLkg4ePKi4uDiFhYXZ2xQtWlQhISGKiYnRk08+qZiYGAUEBKhhw4b2NmFhYXJzc9OWLVv0yCOPKCYmRvfee6+8vLzsbcLDw/XWW2/p9OnTKlasmGJiYhQVFZUlT3h4uJYuXfqfP6sjotADAACASzl06JDKlClzxWPNmzfXY489pgULFmjhwoUqUaJEtjZlypRRSkqK4uLiVKFChSs+z6xZs3ThwoWrZvD09PzPnNOmTdPgwYN17tw5Va1aVdHR0VkKEUm699571a5dOy1cuPCqeW9U9erVNWDAAI0dO1ZvvfWW7rjjjlx77hMnTui1117LMnxSMq89rF279lX7Z8iQISpTpoy9sMu8FjEwMDBLu8DAQPuxuLg4lSpVKstxDw8PFS9ePEubSpUqZXuOzGPFihVTXFzcNV/H2VDoAQAA4Ir8/Mwza1a99o26cOGCfHx8rnjsn3/+0cqVK+Xn56dNmzbpiSeeyNbG19dXknl26WpuvfXWGw/4/zp27KgWLVro6NGjeuedd/TEE0/o+++/z5L9yJEjWrVq1TXzXq7wZadgn3766WueeTt79qwWLlxof+7Bgwff9M8kmdfDRUREKDg4WCNHjsxy7Msvv9RDDz10xceNHTtWCxYs0Pr166/af7h+FHoAAAC4IpvtxodPWumWW27R6dOnr3isR48eatCggV555RW1aNFCjz32mO67774sbTInGSlZsuRVXyM3hm4WLVpURYsWVZUqVdS4cWMVK1ZMS5YsUYcOHextnn/++f/Me7kdO3bYt/39/a/5+oMGDZKPj482b96sxo0b66OPPtIzzzxzzcf8lzNnzqhVq1YqUqSIlixZkuXMZkpKilauXKmXX3452+PeeecdjR07VqtXr1bt2rXt+zMnnYmPj1fp0qXt++Pj41W3bl17m2PHjmV5vrS0NJ06dcr++KCgIMXHx2dpk3n/v9rczMQ3VqLQAwAAgEupV6/eFWfNnDVrlr777jvt2rVLFSpUUJ8+ffTss89q586dKnRZRbt7926VLVtWt9xyy1VfIzeGbl7OMAwZhmGfYTPzNbZs2aKff/5ZlSpVumrey1WuXPm6Xi86OlqzZs3S5s2bVadOHb3++usaMGCAWrRokaWgyomkpCSFh4fL29tbX331VbazcuvXr1exYsVUp06dLPvHjRunN954Q6tWrcpynZ0kVapUSUFBQVqzZo29sEtKStKWLVvUp08fSVJoaKgSEhIUGxtrvzZz7dq1ysjIUEhIiL3NK6+8otTUVHvfREdHq2rVqipWrJi9zZo1azRgwIAs71NoaOgNvR+Ws2waGBfDrJvOi1nknBd955zoN+dF3zmvG51101n8e9bNnTt3Gh4eHsapU6fs+/7880+jSJEixvvvv2/fd+7cOeP22283+vbtm+35nn322TzL+/vvvxtvvvmmsXXrVuPQoUPG999/bzz44ING8eLFjfj4+Cx5J06caKSnp18zb04lJiYa5cqVM4YOHWrfl56ebtx9993GAw88cMPPGRISYtSqVcv47bffjKNHj9pvmTN5RkZGGv369cvyuLFjxxpeXl7GZ599luUxZ86cydImICDA+PLLL42dO3caDz/8sFGpUqUs/1ZbtWpl1KtXz9iyZYvx3XffGVWqVDE6dOhgP56QkGAEBgYanTp1Mnbv3m0sWLDA8PPzy/Lv4fvvvzc8PDyMd955x/jll1+MESNGGJ6ensauXbuu+DM7+qybFHq5hELPefGHi/Oi75wT/ea86DvnVdAKPcMwjEaNGhkzZswwDMOcov/+++83WrZsme2xmzZtMtzd3Y3169cbhmG+D0WLFjViYmLyLO8///xjtG7d2ihVqpTh6elplC1b1njqqaeMffv2ZcnbokUL4/Tp0/ZC70p5b0TXrl2NmjVrZllqwDAM49dffzX8/PzsSxvkxLp16wxJV7wdPHjQMAzDKFeunBEdHZ3lcRUqVLjiY0aMGGFvk5GRYbz66qtGYGCg4e3tbdx///3G/v37szzPyZMnjQ4dOhiFCxc2/P39ja5du2YpFg3DXMKiSZMmhre3t3HrrbcaY8eOzfZzLFq0yLjjjjsMLy8vo0aNGsby5cuv+jM7eqFnMwzDsOBEostJSkpS0aJFdeLEiVydDQl5LzU1VStWrFCbNm1yPMwC1qLvnBP95rzoO+d1PX138eJFHTx4UJUqVXKJiTCWL1+uQYMGaffu3XJzc7vux02fPl1LlizRt99+m4fprk9GRoaSkpLk7++fo5/BEW3btk3NmzfX8ePHXeb3x7U+MydPntQtt9xiX2LCClyjBwAAAJcTERGhAwcO6J9//smyNt1/8fT01HvvvZeHyQqmtLQ0vffeey5T5DkDCj0AAAC4pMsn1bhe3bt3z/0gUKNGjdSoUSOrYxQozn0OGAAAAACQDYUeAAAAALgYCj0AAADYMU8fcH0c/bNCoQcAAAD7JBnnz5+3OAngHDI/K446wQyTsQAAAEDu7u4KCAjQsWPHJEl+fn6y2WwWpyrYMjIylJKSoosXLzr98gquxDAMnT9/XseOHVNAQIDc3d2tjnRFFHoAAACQJAUFBUmSvdiDtQzD0IULF+Tr60vR7YACAgLsnxlHRKEHAAAASZLNZlPp0qVVqlQppaamWh2nwEtNTdXGjRt17733OuzwwILK09PTYc/kZaLQAwAAQBbu7u4O/0dsQeDu7q60tDT5+PhQ6CHHGOwLAAAAAC6GQg8AAAAAXAyFHgAAAAC4GAo9AAAAAHAxFHoAAAAA4GIo9AAAAADAxVDoAQAAAICLodADAAAAABdDoQcAAAAALoZCDwAAAABcDIUeAAAAALgYCj0AAAAAcDEUegAAAADgYij0AAAAAMDFUOgBAAAAgIuh0AMAAAAAF0OhBwAAAAAuhkIPAAAAAFwMhR4AAAAAuBgKPQAAAABwMRR6AAAAAOBiKPQAAAAAwMVQ6AEAAACAi6HQAwAAAAAXQ6EHAAAAAC6GQg8AAAAAXAyFHgAAAAC4GMsLvX/++UdPP/20SpQoIV9fX9WqVUtbt261HzcMQ8OHD1fp0qXl6+ursLAwHThwIMtznDp1Sh07dpS/v78CAgLUrVs3nT17NkubnTt36p577pGPj4/KlSuncePGZcuyePFiVatWTT4+PqpVq5ZWrFiRNz80AAAAAOQhSwu906dP6+6775anp6e++eYb7d27V+PHj1exYsXsbcaNG6d3331XM2bM0JYtW1SoUCGFh4fr4sWL9jYdO3bUnj17FB0drWXLlmnjxo3q2bOn/XhSUpJatmypChUqKDY2Vm+//bZGjhypDz74wN5m8+bN6tChg7p166bt27erbdu2atu2rXbv3p0/bwYAAAAA5BIPK1/8rbfeUrly5TRnzhz7vkqVKtm3DcPQpEmTNGzYMD388MOSpI8++kiBgYFaunSpnnzySf3yyy9auXKlfvrpJzVs2FCS9N5776lNmzZ65513VKZMGX3yySdKSUnRhx9+KC8vL9WoUUM7duzQhAkT7AXh5MmT1apVKw0aNEiS9Nprryk6OlpTpkzRjBkz8ustAQAAAICbZmmh99VXXyk8PFyPP/64NmzYoFtvvVXPPfecevToIUk6ePCg4uLiFBYWZn9M0aJFFRISopiYGD355JOKiYlRQECAvciTpLCwMLm5uWnLli165JFHFBMTo3vvvVdeXl72NuHh4Xrrrbd0+vRpFStWTDExMYqKisqSLzw8XEuXLr1i9uTkZCUnJ9vvJyUlSZJSU1OVmpp60+8N8k9mf9Fvzoe+c070m/Oi75wXfeec6Dfn5Qh9Zmmh98cff2j69OmKiorSyy+/rJ9++kn9+/eXl5eXOnfurLi4OElSYGBglscFBgbaj8XFxalUqVJZjnt4eKh48eJZ2lx+pvDy54yLi1OxYsUUFxd3zdf5tzFjxmjUqFHZ9q9bt05+fn7X+xbAgURHR1sdATeIvnNO9Jvzou+cF33nnOg353P+/HmrI1hb6GVkZKhhw4Z68803JUn16tXT7t27NWPGDHXu3NnKaP9p6NChWc4AJiUlqVy5cmrWrJlKlChhYTLkVGpqqqKjo9WiRQt5enpaHQc5QN85J/rNedF3zou+c070m/M6efKk1RGsLfRKly6t4ODgLPuqV6+uzz//XJIUFBQkSYqPj1fp0qXtbeLj41W3bl17m2PHjmV5jrS0NJ06dcr++KCgIMXHx2dpk3n/v9pkHv83b29veXt7Z9vv6enJB9FJ0XfOi75zTvSb86LvnBd955zoN+fjCP1l6aybd999t/bv359l36+//qoKFSpIMidmCQoK0po1a+zHk5KStGXLFoWGhkqSQkNDlZCQoNjYWHubtWvXKiMjQyEhIfY2GzduzDJWNjo6WlWrVrXP8BkaGprldTLbZL4OAAAAADgLSwu9gQMH6ocfftCbb76p3377TfPnz9cHH3ygyMhISZLNZtOAAQP0+uuv66uvvtKuXbv0zDPPqEyZMmrbtq0k8wxgq1at1KNHD/3444/6/vvv1bdvXz355JMqU6aMJOmpp56Sl5eXunXrpj179mjhwoWaPHlylqGXzz//vFauXKnx48dr3759GjlypLZu3aq+ffvm+/sCAAAAADfD0qGbd955p5YsWaKhQ4dq9OjRqlSpkiZNmqSOHTva2wwePFjnzp1Tz549lZCQoCZNmmjlypXy8fGxt/nkk0/Ut29f3X///XJzc1O7du307rvv2o8XLVpU3377rSIjI9WgQQPdcsstGj58eJa19u666y7Nnz9fw4YN08svv6wqVapo6dKlqlmzZv68GQAAAACQSywt9CTpgQce0AMPPHDV4zabTaNHj9bo0aOv2qZ48eKaP3/+NV+ndu3a2rRp0zXbPP7443r88cevHRgAAAAAHJylQzcBAAAAALmPQg8AAAAAXAyFHgAAAAC4GAo9AAAAAHAxFHoAAAAA4GIo9AAAAADAxVDoAQAAAICLodADAAAAABdDoQcAAAAALoZCDwAAAABcDIUeAAAAALgYCj0AAAAAcDEUegAAAADgYij0AAAAAMDFUOgBAAAAgIuh0AMAAAAAF0OhBwAAAAAuhkIPAAAAAFwMhR4AAAAAuBgKPQAAAABwMRR6AAAAAOBiKPQAAAAAwMVQ6AEAAACAi6HQAwAAAAAXQ6EHAAAAAC6GQg8AAAAAXAyFHgAAAAC4GAo9AAAAAHAxFHoAAAAA4GIo9AAAAADAxVDoAQAAAICLodADAAAAABdDoQcAAAAALoZCDwAAAABcDIUeAAAAALgYCj0AAAAAcDEUegAAAADgYij0AAAAAMDFUOgBAAAAgIuh0AMAAAAAF0OhBwAAAAAuhkIPAAAAAFwMhR4AAAAAuBgKPQAAAABwMRR6AAAAAOBiKPQAAAAAwMVQ6AEAAACAi6HQAwAAAAAXQ6EHAAAAAC6GQg8AAAAAXAyFHgAAAAC4GAo9AAAAAHAxFHoAAAAA4GIo9AAAAADAxVDoAQAAAICLsbTQGzlypGw2W5ZbtWrV7McvXryoyMhIlShRQoULF1a7du0UHx+f5TkOHz6siIgI+fn5qVSpUho0aJDS0tKytFm/fr3q168vb29vVa5cWXPnzs2WZerUqapYsaJ8fHwUEhKiH3/8MU9+ZgAAAADIa5af0atRo4aOHj1qv3333Xf2YwMHDtTXX3+txYsXa8OGDTpy5IgeffRR+/H09HRFREQoJSVFmzdv1rx58zR37lwNHz7c3ubgwYOKiIhQs2bNtGPHDg0YMEDdu3fXqlWr7G0WLlyoqKgojRgxQtu2bVOdOnUUHh6uY8eO5c+bAAAAAAC5yPJCz8PDQ0FBQfbbLbfcIklKTEzU7NmzNWHCBDVv3lwNGjTQnDlztHnzZv3www+SpG+//VZ79+7Vxx9/rLp166p169Z67bXXNHXqVKWkpEiSZsyYoUqVKmn8+PGqXr26+vbtq8cee0wTJ060Z5gwYYJ69Oihrl27Kjg4WDNmzJCfn58+/PDD/H9DAAAAAOAmeVgd4MCBAypTpox8fHwUGhqqMWPGqHz58oqNjVVqaqrCwsLsbatVq6by5csrJiZGjRs3VkxMjGrVqqXAwEB7m/DwcPXp00d79uxRvXr1FBMTk+U5MtsMGDBAkpSSkqLY2FgNHTrUftzNzU1hYWGKiYm5au7k5GQlJyfb7yclJUmSUlNTlZqaelPvCfJXZn/Rb86HvnNO9Jvzou+cF33nnOg35+UIfWZpoRcSEqK5c+eqatWqOnr0qEaNGqV77rlHu3fvVlxcnLy8vBQQEJDlMYGBgYqLi5MkxcXFZSnyMo9nHrtWm6SkJF24cEGnT59Wenr6Fdvs27fvqtnHjBmjUaNGZdu/bt06+fn5Xd8bAIcSHR1tdQTcIPrOOdFvzou+c170nXOi35zP+fPnrY5gbaHXunVr+3bt2rUVEhKiChUqaNGiRfL19bUw2X8bOnSooqKi7PeTkpJUrlw5NWvWTCVKlLAwGXIqNTVV0dHRatGihTw9Pa2Ogxyg75wT/ea86DvnRd85J/rNeZ08edLqCNYP3bxcQECA7rjjDv32229q0aKFUlJSlJCQkOWsXnx8vIKCgiRJQUFB2WbHzJyV8/I2/56pMz4+Xv7+/vL19ZW7u7vc3d2v2CbzOa7E29tb3t7e2fZ7enryQXRS9J3zou+cE/3mvOg750XfOSf6zfk4Qn9ZPhnL5c6ePavff/9dpUuXVoMGDeTp6ak1a9bYj+/fv1+HDx9WaGioJCk0NFS7du3KMjtmdHS0/P39FRwcbG9z+XNktsl8Di8vLzVo0CBLm4yMDK1Zs8beBgAAAACciaWF3osvvqgNGzbozz//1ObNm/XII4/I3d1dHTp0UNGiRdWtWzdFRUVp3bp1io2NVdeuXRUaGqrGjRtLklq2bKng4GB16tRJP//8s1atWqVhw4YpMjLSfratd+/e+uOPPzR48GDt27dP06ZN06JFizRw4EB7jqioKM2cOVPz5s3TL7/8oj59+ujcuXPq2rWrJe8LAAAAANwMS4du/v333+rQoYNOnjypkiVLqkmTJvrhhx9UsmRJSdLEiRPl5uamdu3aKTk5WeHh4Zo2bZr98e7u7lq2bJn69Omj0NBQFSpUSJ07d9bo0aPtbSpVqqTly5dr4MCBmjx5ssqWLatZs2YpPDzc3qZ9+/Y6fvy4hg8frri4ONWtW1crV67MNkELAAAAADgDSwu9BQsWXPO4j4+Ppk6dqqlTp161TYUKFbRixYprPk/Tpk21ffv2a7bp27ev+vbte802AAAAAOAMHOoaPQAAAADAzaPQAwAAAAAXQ6EHAAAAAC6GQg8AAAAAXAyFHgAAAAC4GAo9AAAAAHAxFHoAAAAA4GIo9AAAAADAxVDoAQAAAICLodADAAAAABdDoQcAAAAALoZCDwAAAABcDIUeAAAAALgYCj0AAAAAcDEUegAAAADgYij0AAAAAMDFUOgBAAAAgIuh0AMAAAAAF0OhBwAAAAAuhkIPAAAAAFwMhR4AAAAAuBgKPQAAAABwMRR6AAAAAOBiKPQAAAAAwMV4WB0AAOAaMjKkM2eks2elCxekixfN/2beUlPNdmlpNm3dGijDsMnDQ7LZJB8fydc363/9/KSiRc1tAACQMxR6AICrOntWOnLk0u3o0UvbJ09Kp09fuiUkmMXef/OQ1Pi6M/j4SMWKXboVLy6VKiWVKSOVLp31v0FBkgf/ZwMAgEIPAAoyw5Di46X9+6Xff5f++MO8ZW6fOJHz5/TwyH52ztdX8vQ0z94ZRoYSExNVtGhR2WxuSk+XkpMvnQW8/EygZN4/etS8Xc9rV6gg3XbbpVulSlKVKlLVqmYOAAAKAgo9ACggTp6Udu6U9uzJejt16tqPK1Ik61mzzO1bbrl0hu3yM27/NdQyNTVdK1ZsVJs2beTpefVLxTMypKSkS2cLM88cnjplFqf/PssYFyelpZlF6u+/Z38+m80s/GrUMG/BwVLNmuZ/vbz++/0DAMCZUOgBgAs6eVKKjb1027pVOnToym3d3MyzXpUrXzoLdvvtl86G+fvnb/bLcwUEmLfrkZFhFnyZZyUvPzv5669mgZhZBH711aXHeXlJtWtLDRtKDRqYt5o1zTOQAAA4Kwo9AHByhiHt2yd9992l2x9/XLnt7bdfOqOVeXOVIY1ublLZsubt3nuzHsscorp3r3kWM/O/u3aZZwu3bjVvmby9zcKvSRPzdtdd5plLAACcBYUeADiZjAzp55+lNWukTZuk7783z+D9W+XKl85SNWwo1atnzmJZENls5kQtQUFS8+aX9huGWRRffuZz2zaz+Pv+e/P21ltm2+Bg6e67pWbNpPvvNyeEAQDAUVHoAYAT+PNPafVqKTraLPD+Xdj5+kohIZfOQIWEXP+Qx4LMZjPPct5+u/TEE+Y+w5B++80s8jLPkO7fb54F3LtXmjnTbFe7ttSihRQWJt1zj1SokHU/BwAA/0ahBwAOKDVV2rjRvJZsxQqz8Lhc4cJS06bmrUkT82wdE4rkDpvNnKWzShWpSxdz3/Hj0ubNZp+sXSvt2GFObLNzpzR+vHk93z33SA88ID34oHk2FQAAK1HoAYCDOH1a+uYbs7hbuVJKTLx0zN3dPEvXooV5a9SIyULyU8mS0sMPmzdJOnbMLPgyz7IePmzeX7tWioqSqlUzC74HH5RCQ1nbDwCQ//hfDwBYKD5e+uwz6fPPzbNF6emXjpUsealYaN7cutkvkV2pUtKTT5q3zKGey5dLX39t9uO+febt7belEiWkRx4xh4Y2a0bRBwDIH/zvBgDy2cmT0hdfSAsXSuvWmZOrZKpRQ3roIbO4a9TIPJMHx5Y51HPAAPOWkCCtWmUWfStWmP09a5Z5K1FCevRR6fHHKfoAAHmL/8UAQD44c0ZaskRasMAc6peWdunYnXdK7dtLbduak4LAuQUEmP3Zvr3Zzxs2SIsWmcX9iRPmZC4zZ5oLzj/5pNS5szkzqs1mdXIAgCuh0AOAPJKRYS5/MGeOtHixdP78pWN16ph/5D/xhLkwOVyTh4e5FMP990tTp2Yv+qZMMW/BwdIzz0hPPy3deqvVqQEArsDN6gAA4GoOHZJGjzaH8zVtKs2bZxZ5d9whjRplXru1Y4f00ksUeQVJZtH3/vvS0aPmxDsdOkg+PuayDS+9JJUrJ7VsKX3yiXTxotWJAQDOjDN6AJALUlOlpUvNP+LXrjUn6JCkIkXMM3ddupizLzI8D5JZ9LVqZd4SE80JeebNM88AR0ebt/79zX83vXqZXxIAAJATnNEDgJtw5Ig0cqRUoYI5DHPNGrPIa95c+t//pLg46YMPpLvuosjDlRUtKnXrZs7W+fvvl/49nTolTZggVa1qnglcvFhKSbE6LQDAWVDoAUAOGYa0fr05c2L58uZwzKNHpcBAadgw6eBBs+B7+mnJz8/qtHAmt90mjRhhFnzLl5sLsNts5lniJ54w/7298or0zz9WJwUAODoKPQC4ThcvmrMl1qxpTo3/2Wfmunf33GPOpnn4sPTaa1LFilYnhbNzd5fatDGXaDh40PwCISjIXHfxzTfNf2NPPy1t22Z1UgCAo6LQA4D/cOKEWcBVqCD17GlOnFGokNS7t7Rzpznkrn17ycvL6qRwRRUqmP/+Dh82h2/ee6+5bMMnn5jLMjRtKn31Vdb1GAEAoNADgKv47TcpMtIcLjd8uHTsmLk9YYI5dG76dKlWLatToqDw9JQee8xcouGnn6SnnjInddmwQXr4YfNavqlTsy7jAQAouCj0AOBftm6V2rUzZzqcNk26cEGqX1+aP9+8dmrgQHMCDcAqDRuaZ/QOHpSGDDEXaf/tN6lvX6lSJemtt6SkJKtTAgCsRKEHAP/vhx+kiAjpzjvNBa0Nw7xOau1as/jr0ME8gwI4irJlpbFjpb/+kt57z7x279gxc02+ihXNGTxPnbI4JADAEhR6AAq8774zF6kODZVWrJDc3MyJLnbvNmc+bNaMpRHg2AoXNs/m/fqruR5f1arS6dPmjLAVKphn/eLjrU4JAMhPFHoACqz168317u65x1yg2t1d6tpV2r/fXAOvRg2rEwI54+kpPfOMtGePtGiRVKeOdPasNG6ceYbvxRfNyYUAAK6PQg9AgfPjj+YC1M2aSevWmX8c9+wpHTggffihVLmy1QmBm+Pubq7zuH27uURDSIi5PMj48eY1fCNGSImJVqcEAOQlCj0ABcbevdKjj5p/9K5day6H0KePOYnF+++bfwADrsRmMxddj4kxhyHXq2ee4Rs9+tKkLefOWZ0SAJAXKPQAuLxDh8whmbVqSUuWmNfgdeliXs80bZq5ZALgymw2c2KhrVvNtfiqVzev4XvpJen2282JXFJSrE4JAMhNFHoAXNaJE9KAAeYyCXPnmgtKP/KItGuXNGeOOUkFUJC4uZlr8e3aZU7aUqmSOUlL//7mNamZs80CAJwfhR4Al5OSYi5qXrmyNHmyeb95c3P5hC++kIKDrU4IWMvd3Zy0Zd8+afp0KTDQHMLcrp10773mdawAAOdGoQfAZRiGtHSpeWbihRfMySbq1jVn1Fyzxrw2D8AlXl5S797mRESvvir5+prLjYSEmOtG/vmn1QkBADfKYQq9sWPHymazacCAAfZ9Fy9eVGRkpEqUKKHChQurXbt2iv/XQkCHDx9WRESE/Pz8VKpUKQ0aNEhpaWlZ2qxfv17169eXt7e3KleurLlz52Z7/alTp6pixYry8fFRSEiIfuTrTMCp7NhhnrV75BHzzERQkDR7tnlNUliY1ekAx1akiDlBy6+/mtev2mzSggVStWrmGnxnzlidEACQUw5R6P300096//33Vbt27Sz7Bw4cqK+//lqLFy/Whg0bdOTIET366KP24+np6YqIiFBKSoo2b96sefPmae7cuRo+fLi9zcGDBxUREaFmzZppx44dGjBggLp3765Vq1bZ2yxcuFBRUVEaMWKEtm3bpjp16ig8PFzHjh3L+x8ewE1JSPBWz57uql/fXBfPx0d65RXzD9ZnnzWHqAG4PmXLmtevxsaaX5wkJ5tr8FWtKn3yCdfvAYAzsbzQO3v2rDp27KiZM2eqWLFi9v2JiYmaPXu2JkyYoObNm6tBgwaaM2eONm/erB9++EGS9O2332rv3r36+OOPVbduXbVu3Vqvvfaapk6dqpT/nz5sxowZqlSpksaPH6/q1aurb9++euyxxzRx4kT7a02YMEE9evRQ165dFRwcrBkzZsjPz08ffvhh/r4ZAK5bWpo0bZqbnnvufs2d6ybDMIea7d8vvf66eYYCwI2pV09avdpcg69yZenoUenpp6X773fXwYP+VscDAFwHD6sDREZGKiIiQmFhYXr99dft+2NjY5Wamqqwy8ZcVatWTeXLl1dMTIwaN26smJgY1apVS4GBgfY24eHh6tOnj/bs2aN69eopJiYmy3NktskcIpqSkqLY2FgNHTrUftzNzU1hYWGKiYm5au7k5GQlJyfb7yclJUmSUlNTlZqaemNvBiyR2V/0m/PYssWmvn3d9fPP7pLcVa9euiZPNtS4sXm6ga50bHzmnEd4uLno+qRJbhozxk3ffeemzZubav/+NI0alarLvp+Fg+Nz55zoN+flCH1maaG3YMECbdu2TT/99FO2Y3FxcfLy8lJAQECW/YGBgYqLi7O3ubzIyzyeeexabZKSknThwgWdPn1a6enpV2yzb9++q2YfM2aMRo0alW3/unXr5Ofnd9XHwXFFR0dbHQH/ISnJSx99FKzVq811EQoXTtHTT/+iFi3+1KlT0ooVFgdEjvCZcx61akmTJ/tqzpwa2rz5Vs2Y4an585PVqdNe3X//YblZPj4I14vPnXOi35zP+fPnrY5gXaH3119/6fnnn1d0dLR8fHysinHDhg4dqqioKPv9pKQklStXTs2aNVOJEiUsTIacSk1NVXR0tFq0aCFPT0+r4+AKMjKk2bPdNGyYm06ftkmSunTJ0MiRadqx40/6zsnwmXNeTz2Vqnfe+V6ffhqqffu8NXVqPf38cx1Nm5auatWsTodr4XPnnOg353Xy5EmrI1hX6MXGxurYsWOqX7++fV96ero2btyoKVOmaNWqVUpJSVFCQkKWs3rx8fEKCgqSJAUFBWWbHTNzVs7L2/x7ps74+Hj5+/vL19dX7u7ucnd3v2KbzOe4Em9vb3l7e2fb7+npyQfRSdF3jmnvXqlHD2nzZvN+nTrStGnSXXe5KTXVUzt20HfOin5zTnXqnNCLL6Zr+nQ3jRghffedmxo2dNPLL0svvSRd4X+NcCB87pwT/eZ8HKG/LBtscf/992vXrl3asWOH/dawYUN17NjRvu3p6ak1a9bYH7N//34dPnxYoaGhkqTQ0FDt2rUry+yY0dHR8vf3V/D/r4gcGhqa5Tky22Q+h5eXlxo0aJClTUZGhtasWWNvAyD/paSY073Xq2cWeYULm4ufb90q3XWX1emAgs3T01yrcs8eqU0b8/M6cqS5buWmTVanAwBIFp7RK1KkiGrWrJllX6FChVSiRAn7/m7duikqKkrFixeXv7+/+vXrp9DQUDVu3FiS1LJlSwUHB6tTp04aN26c4uLiNGzYMEVGRtrPtvXu3VtTpkzR4MGD9eyzz2rt2rVatGiRli9fbn/dqKgode7cWQ0bNlSjRo00adIknTt3Tl27ds2ndwPA5X74Qere3fwjUpIeeMA8i1eunLW5AGRVoYK0bJm0eLHUv7+0b590773mWfi33hKTtQCAhRz68umJEyfqgQceULt27XTvvfcqKChIX3zxhf24u7u7li1bJnd3d4WGhurpp5/WM888o9GjR9vbVKpUScuXL1d0dLTq1Kmj8ePHa9asWQoPD7e3ad++vd555x0NHz5cdevW1Y4dO7Ry5cpsE7QAyFtnz0rPP2+esduzRypZ0ly0+auvKPIAR2WzSU88If3yi1ngSdLMmVJwsPTll9ZmA4CCzPLlFS63fv36LPd9fHw0depUTZ069aqPqVChglb8x1R7TZs21fbt26/Zpm/fvurbt+91ZwWQu1avlrp1kw4fNu937iyNHy8xtxHgHIoVkz74QOrUSerZ0zy717at1LGj9O67UvHiVicEgILFoc/oAXB9Z89KkZFSixZmkVexorRqlTR3LkUe4Izuucdce2/IEMnNTfrkE6lGDXPxdQBA/qHQA2CZ774zJ2+YNs28Hxkp7d4ttWxpaSwAN8nHRxo71pxIqVo1KS5Oeugh80z96dNWpwOAgoFCD0C+u3hRevFFc9KG3383r79bvVqaMkUqVMjqdAByS0iItG2bNGiQeXbvo4+kmjWly+ZDAwDkEQo9APlq61apfn3z+jvDkJ59Vtq1S7r/fquTAcgLvr7SuHHmGfw77pCOHDFn0u3dWzp3zup0AOC6KPQA5Iv0dOm116TGjc3Z+YKCzGt2Zs+Wiha1Oh2AvBYaKu3YIUVFmffff19q0ECKjbU0FgC4LAo9AHnu8GGpWTNp+HCz4Gvf3rwW74EHrE4GID/5+ppn81evlm69Vdq/3/zyZ+xY83cDACD3UOgByFMLF0q1a0ubNklFikj/+5+5Nh4zagIF1/33Szt3So89JqWlSUOHSs2bX1peBQBw8yj0AOSJM2ekrl2lJ5+UEhPNb+137JCeftrqZAAcQfHi0qJF0pw5UuHC0saN5pdCn35qdTIAcA0UegBy3Y8/SvXqmWvhublJr75q/hF3221WJwPgSGw2qUsX80ugxo3NL4Weekrq1k06f97qdADg3Cj0AOQawzCvv7n77kvLJqxbJ40eLXl6Wp0OgKO6/XZzePfw4Wbx9+GH0p13Snv2WJ0MAJwXhR6AXHH6tNS2rbk+Xlqaee3Nzz+ba+UBwH/x8JBGjZLWrDFn5d271yz25swxv0QCAOQMhR6Am5Y5VPOrryQvL2naNPPam2LFrE4GwNk0a2YO5WzRQrpwwVxrs3Nn6exZq5MBgHOh0ANwwwxDmjxZatJEOnTIvAYvJkbq08ccfgUANyIwUFq5UnrjDfM63//9T2rY0JypEwBwfSj0ANyQhARzeOaAAVJqqtSunbRtm1S/vtXJALgCNzfp5Zel9esvrbkXEiLNm2d1MgBwDhR6AHJsxw6pQQPpiy/MSVbefVdavFgqWtTqZABczT33mL9zWreWLl40Z+l87jkpOdnqZADg2Cj0AOTIxx9Ld90l/fGHVKGC9N13Ur9+DNUEkHduuUVatkwaOdL8XTN9unTffdLff1udDAAcF4UegOuSmio9/7zUqZM5QUKrVuZQzUaNrE4GoCBwc5NGjDALvoAAacsWc6j4unVWJwMAx0ShB+A/xcdLYWHmEE1JeuUV84+t4sWtzQWg4GnTRoqNlerWlY4fN383vf02SzAAwL/dVKGXmpqqv/76S/v379epU6dyKxMAB/LDD+a35hs3SkWKSEuWSK+/Lrm7W50MQEF1223S999LzzwjZWRIgwdLjz/OEgwAcLkcF3pnzpzR9OnTdd9998nf318VK1ZU9erVVbJkSVWoUEE9evTQTz/9lBdZAeSzDz4wFzw/ckSqVs1cL69tW6tTAYDk5yfNnWuu2+npKX3+uXn98J9/Wp0MABxDjgq9CRMmqGLFipozZ47CwsK0dOlS7dixQ7/++qtiYmI0YsQIpaWlqWXLlmrVqpUOHDiQV7kB5KHUVHNWu169zO1HHzWLvGrVrE4GAJfYbOa6nRs2mGvv7dol3XmneR8ACjqPnDT+6aeftHHjRtWoUeOKxxs1aqRnn31W06dP19y5c7Vp0yZVqVIlV4ICyB+nTplDoNauNf+Iev11aehQZtUE4LhCQ6WtW80RB7Gx5nV7770n9e5tdTIAsE6OCr1PP/30utr5+PioN79dAafzyy/Sgw9Kv/8uFSokffKJ9PDDVqcCgP9Wtqx5LXG3btKCBeaZvp07pcmTzaGdAFDQ5PgavWPHjv1nm02bNt1QGADWWblSatzYLPIqVJA2b6bIA+Bc/Pyk+fOlN9+8tN5ey5bSiRNWJwOA/JfjQq9mzZr67LPPrnjswoUL6t+/v+6///6bDgYgfxiGNGmSFBEhJSVJTZpIP/0k1a5tdTIAyDmbzRxu/uWXUuHC0vr15nqfe/danQwA8leOC70hQ4bomWeeUYcOHXT69Gn7/k2bNqlWrVpauXKl1rF6KeAUUlKknj2lgQPNKcq7dpVWr5ZKlrQ6GQDcnAcfNJeHue026eBBc0bONWusTgUA+SfHhd4LL7ygrVu36rffflONGjX02Wef6fnnn1fz5s3Vpk0b/fzzz7r77rvzIiuAXJSQILVuLc2aJbm5SRMmSLNnS97eVicDgNxRo4a0ZYt0991SYqLUqpX5ew4ACoIcTcaSKTg4WD/88IM6duyo9u3by8/PT6tXr9Z9992X2/kA5IFDh8yhmnv2mJOuLFoktWljdSoAyH233GKOVHj2WenTT6Xu3aXffpPeeMP8kgsAXNUN/YpLTU3Vq6++qi+++ELt27eXp6en3nzzTf3999+5nQ9ALtu2zZx0Zc8eqUwZadMmijwArs3Hx5xF+NVXzftjx0pPPilduGBtLgDISzku9Hbs2KH69etrwYIFWrVqlebPn69du3bJ3d1dNWvW1GzGRAAOa/ly6d57pbg4qWZN8/qVevWsTgUAec9mk0aPlubNM5dbWLxYat5cuo7JxAHAKeW40AsJCVFoaKh27typZs2aSZJuvfVWrVixQu+8846ioqLUhtMDgMOZPl166CHp3DlzMeHvvpPKlbM6FQDkr2eekb79VipWzPyyq3Fj6ddfrU4FALkvx4Xe0qVL9cEHH6hw4cLZjnXv3l07d+5UampqroQDcPMyMqRBg6Tnnrs0s+aKFVLRolYnAwBrNG0qxcRIt99uzsh5993mpC0A4EpyXOi1bt36mscrVKig6OjoGw4EIPdcvGheh/LOO+b9114zZ5zz9LQ2FwBYrWpVafNmqWFDc0H15s3NL8EAwFXkqNA7fPhwjp78n3/+yVF7ALknKcmcZGXxYrOw+9//pGHDzOtUAABSqVLSunVSeLh0/rw5vH3uXKtTAUDuyFGhd+edd6pXr1766aefrtomMTFRM2fOVM2aNfX555/fdEAAORcfbw5NWrdOKlxY+uYb6emnrU4FAI6ncGHp66+lTp2k9HRzePuYMZJhWJ0MAG5OjtbR27t3r9544w21aNFCPj4+atCggcqUKSMfHx+dPn1ae/fu1Z49e1S/fn2NGzeOSVkAC/zxh9SypfT771LJkmaR16CB1akAwHF5epqzcZYpI731lvTyy9KRI9KkSZK7u9XpAODG5OiMXokSJTRhwgQdPXpUU6ZMUZUqVXTixAkdOHBAktSxY0fFxsYqJiaGIg+wwM8/m5MK/P67VLGi9P33FHkAcD1sNnN9vcmTze0pU8xrnC9etDoZANyYHJ3Ry+Tr66vHHntMjz32WG7nAXCDNmwwry9JSpJq15ZWrpRKl7Y6FQA4l/79paAgcyjnZ59Jx49LX30l+ftbnQwAcibHhd6jjz56Xe2++OKLHIcBcGOWLJE6dJCSk80F0b/8UgoIsDoVADinJ54wh763bWt+iXb//eaXZyVKWJ0MAK5fjgu9oiy+BTiU2bOlnj3NNfLatpXmz5d8fa1OBQDOrVmzSzNybt1qfokWHW1exwcAziDHhd6cOXPyIgeAGzBpkjRwoLndrZs0Y4bkcUMDsgEA/1a/vrRxo9SihbR3r9SkibR6tXTbbVYnA4D/luMF0wFYzzCk11+/VOQNGiTNnEmRBwC5rXp16bvvpNtvlw4eNIu9PXusTgUA/41CD3AyhiENHSq9+qp5f/RoczpwFkIHgLxRsaK0aZNUs6Z09Kh0333mcE4AcGQUeoATyciQ+vUzCztJGj/eLPgo8gAgb5UubU7M0qiRdPKk1Ly5eR8AHBWFHuAk0tLM6/CmTjULuxkzpKgoq1MBQMFRvLh5jV6zZtKZM1KrVtKKFVanAoAro9ADnEBKivTUU9LcuZKbm/TRR1KvXlanAoCCp0gRs7h78EFzMfW2bc0lbQDA0VDoAQ7u4kWpXTtp8WLJ09P879NPW50KAAouHx/p88+lxx+XUlOlxx4z7wOAI6HQAxzYhQvSQw9Jy5aZf1h89ZX06KNWpwIAeHqa65Z26GAOrW/fXlq40OpUAHAJhR7goM6fN4u86GipUCHpm2/M60EAAI7Bw0P63/+kTp2k9HRziP0nn1idCgBMFHqAA8os8lavvlTkNW1qdSoAwL+5u0tz5khdu5ozI3fqJM2bZ3UqAKDQAxzO+fPmRf5r1kiFC0srV0r33GN1KgDA1bi7S7NmST17mmuddu0qzZ5tdSoABR2FHuBAzp2THnhAWrv2UpHXpInVqQAA/8XNTZo+XXruObPY697dXAYHAKxCoQc4iMwib906c/ruVauku++2OhUA4Hq5uUlTpkjPP2/e79PHLP4AwAoUeoADyCzy1q+/VOTddZfVqQAAOWWzSRMnSi+8YN5/7jmGcQKwBoUeYLFz56SICLPI8/eXvv1WCg21OhUA4EbZbNLbb0sDBpj3e/SQPvrI0kgACiBLC73p06erdu3a8vf3l7+/v0JDQ/XNN9/Yj1+8eFGRkZEqUaKEChcurHbt2ik+Pj7Lcxw+fFgRERHy8/NTqVKlNGjQIKWlpWVps379etWvX1/e3t6qXLmy5s6dmy3L1KlTVbFiRfn4+CgkJEQ//vhjnvzMwOUuXDAnXtmw4VKR17ix1akAADfLZpMmTLh0zV7XrtKnn1qdCkBBYmmhV7ZsWY0dO1axsbHaunWrmjdvrocfflh79uyRJA0cOFBff/21Fi9erA0bNujIkSN69LLVotPT0xUREaGUlBRt3rxZ8+bN09y5czV8+HB7m4MHDyoiIkLNmjXTjh07NGDAAHXv3l2rVq2yt1m4cKGioqI0YsQIbdu2TXXq1FF4eLiOHTuWf28GCpzkZHPx83XrzIlXVq2SQkKsTgUAyC02m/Tee+YZvcylFz77zOpUAAoKSwu9Bx98UG3atFGVKlV0xx136I033lDhwoX1ww8/KDExUbNnz9aECRPUvHlzNWjQQHPmzNHmzZv1ww8/SJK+/fZb7d27Vx9//LHq1q2r1q1b67XXXtPUqVOVkpIiSZoxY4YqVaqk8ePHq3r16urbt68ee+wxTZw40Z5jwoQJ6tGjh7p27arg4GDNmDFDfn5++vDDDy15X+D6UlOl9u3NWTV9faUVKziTBwCuyM3NnH2zSxdzUfUOHaQvv7Q6FYCCwMPqAJnS09O1ePFinTt3TqGhoYqNjVVqaqrCwsLsbapVq6by5csrJiZGjRs3VkxMjGrVqqXAwEB7m/DwcPXp00d79uxRvXr1FBMTk+U5MtsM+P+B8ykpKYqNjdXQoUPtx93c3BQWFqaYmJir5k1OTlZycrL9flJSkiQpNTVVqampN/VeIH9l9ld+9Vt6uvTMM+768ks3eXsb+uKLdDVubIh/NjmX332H3EG/OS/67sZNny4lJ7vr00/d9Pjjhj77LF2tWxv59vr0nXOi35yXI/SZ5YXerl27FBoaqosXL6pw4cJasmSJgoODtWPHDnl5eSkgICBL+8DAQMXFxUmS4uLishR5mcczj12rTVJSki5cuKDTp08rPT39im327dt31dxjxozRqFGjsu1ft26d/Pz8ru+Hh0OJjo7O89fIyJDee6+e1q0rLw+PDA0a9KOSk+O1YkWev7RLy4++Q+6j35wXfXdjHnvMpsOHG+j772/VY4/Z9PLLP6peveP5moG+c070m/M5f/681RGsL/SqVq2qHTt2KDExUZ999pk6d+6sDRs2WB3rPw0dOlRRUVH2+0lJSSpXrpyaNWumEiVKWJgMOZWamqro6Gi1aNFCnp6eefY6hiH17eumdevc5e5u6JNPMvTIIw3y7PUKgvzqO+Qu+s150Xc3r1Ur6amnMvTll+56661QLV+ernvuyfsze/Sdc6LfnNfJkyetjmB9oefl5aXKlStLkho0aKCffvpJkydPVvv27ZWSkqKEhIQsZ/Xi4+MVFBQkSQoKCso2O2bmrJyXt/n3TJ3x8fHy9/eXr6+v3N3d5e7ufsU2mc9xJd7e3vL29s6239PTkw+ik8rLvjMMaeBAaeZM8+L8jz6y6YknLP/4uQw+d86JfnNe9N2N8/SUFi2S2rWTli2zqW1bD61dKzVsmF+vT985I/rN+ThCfzncOnoZGRlKTk5WgwYN5OnpqTVr1tiP7d+/X4cPH1bo/y8yFhoaql27dmWZHTM6Olr+/v4KDg62t7n8OTLbZD6Hl5eXGjRokKVNRkaG1qxZY28D3KyXX5YmTza3Z8+WnnrK2jwAAOt4eZnFXrNm0pkz5lm+vXutTgXA1Vh6SmHo0KFq3bq1ypcvrzNnzmj+/Plav369Vq1apaJFi6pbt26KiopS8eLF5e/vr379+ik0NFSN/396wpYtWyo4OFidOnXSuHHjFBcXp2HDhikyMtJ+tq13796aMmWKBg8erGeffVZr167VokWLtHz5cnuOqKgode7cWQ0bNlSjRo00adIknTt3Tl27drXkfYFreestaexYc3vqVHMtJQBAwebra86+ef/90k8/SS1aSN99J1WqZHUyAK7C0kLv2LFjeuaZZ3T06FEVLVpUtWvX1qpVq9SiRQtJ0sSJE+Xm5qZ27dopOTlZ4eHhmjZtmv3x7u7uWrZsmfr06aPQ0FAVKlRInTt31ujRo+1tKlWqpOXLl2vgwIGaPHmyypYtq1mzZik8PNzepn379jp+/LiGDx+uuLg41a1bVytXrsw2QQuQUx98IL30krk9bpy5cC4AAJJUpIj0zTdS06bS7t1SWJi0aZNUpozVyQC4AksLvdmzZ1/zuI+Pj6ZOnaqpU6detU2FChW04j+mLGzatKm2b99+zTZ9+/ZV3759r9kGyInFi6Xevc3tl16SBg2yNg8AwPGUKCF9+610zz3S77+bZ/Y2bjT3A8DNcLhr9ABX8O23UseO5iQsPXtKb75pdSIAgKMqXVpavVq69VbzWr1WraT/X54XAG4YhR6Qy2JipEcekVJTpSeekKZNM2faBADgaipWlKKjpVtukbZulR56SLpwwepUAJwZhR6Qi3bvliIipPPnpZYtpf/9T3J3tzoVAMAZVK8urVol+ftLGzaYXxamplqdCoCzotADcskff5jF3enTUmio9MUX5hTaAABcr/r1pWXLzFk5ly0zh/8beb+eOgAXRKEH5IKjR80L6I8elWrVkpYvlwoVsjoVAMAZ3XOPtHChOSJk7lxzLVYAyCkKPeAmJSaaF87/8Yd0223msJtixaxOBQBwZg8+KM2caW6PHStNnmxtHgDOh0IPuAnJyebEKzt3SoGB5oX0pUtbnQoA4Aq6dr00a/OAAdKCBZbGAeBkKPSAG5SRIXXpIq1bd2nR29tuszoVAMCVvPSS1K+fuf3MM+YyDABwPSj0gBs0aJD57aqHhznxSr16VicCALgam02aNOnSDJyPPCLFxlqdCoAzoNADbsCECeZNMi+UDwuzNA4AwIW5uUkffSQ1by6dPSu1aSP99pvVqQA4Ogo9IIcWLJBeeMHcHjdO6tjR2jwAANfn7S0tWWKOHjl2TAoPl+LirE4FwJFR6AE5sHateY2EJD3/vPTii9bmAQAUHP7+0ooVUqVK5kzPDzxgnuEDgCuh0AOu088/S23bmtdIPP64OXTTZrM6FQCgIAkKkr79VrrlFvNavQ4dpLQ0q1MBcEQUesB1OHRIat1aOnNGuu8+81oJNz49AAALVK4sff215OMjLVtmjjAxDKtTAXA0/KkK/IeEBPPC96NHpZo1paVLzf+5AgBglcaNpU8+MUeWTJsmjR9vdSIAjoZCD7iG1FTpscekvXulMmXMtfICAqxOBQCA9Oijlwq8QYOkxYutzQPAsVDoAVdhGFLv3tKaNVKhQtLy5VLZslanAgDgkgEDLi2o3qmT9P33lsYB4EAo9ICrGDtW+vBD81q8RYukunWtTgQAQFY2mzRxovTQQ1JysvTww9KBA1anAuAIKPSAK1i4UHr5ZXP7vffMa/QAAHBE7u7S/PlSw4bSyZPm5GHHj1udCoDVKPSAf/n+e6lzZ3N74EDpueeszQMAwH8pVMicgbNiRen3380zfBcuWJ0KgJUo9IDL/PabOewlc/jL229bnQgAgOsTGGguqB4QIP3wg9Sli5SRYXUqAFah0AP+36lTUkSEOeylQQNz2mp3d6tTAQBw/apXN5cB8vQ0ry8fNcrqRACsQqEHSEpNddPjj7vr11+l8uXNhWgLFbI6FQAAOXfffdKMGeb26NHSp59amweANSj0UOAZhjR9eh1t2uQmf39zGYXSpa1OBQDAjXv2WenFF83trl2lLVts1gYCkO8o9FDgTZzoprVry8vNzdCiRVLNmlYnAgDg5o0de2nZhXbt3HXsmK/VkQDkIwo9FGjLl0tDh5ofg3feyVB4uMWBAADIJe7u5vXmdepIx47Z9MYbITpzxupUAPILhR4KrD17pA4dJMOwqUWLPxUZydRkAADXUriw9NVXUmCgoUOHiqpTJ3elp1udCkB+oNBDgXTihPTgg9KZM9K992aoZ8+dsnH5AgDABZUvL33+ebo8PdO1YoWbhgyxOhGA/EChhwInJUVq1046eFC67TZp4cJ0eXoaVscCACDPNGpkqH//7ZKk8eOl2bMtDgQgz1HooUAxDCkyUtq4USpSxBzOUqKE1akAAMh799zzj4YNM8dt9u5t/r8QgOui0EOBMnmyNGuW5OYmLVgg1ahhdSIAAPLPq69mqH17KS1Neuwx6fBhqxMByCsUeigwVq6UXnjB3H77balNG2vzAACQ32w26cMPpXr1pOPHpbZtpfPnrU4FIC9Q6KFA2L9fat9eysgwF44dONDqRAAAWMPPT1q6VCpZUtq+XerWzby0AYBrodCDy0tKMr+xTEqS7r5bmj5dzLAJACjQypeXPvtM8vAwL2UYN87qRAByG4UeXFpGhtSpk7Rvn3TrrdLnn0ve3lanAgDAevfeK737rrk9dKi0YoW1eQDkLgo9uLTXXjNn1vT2lr74QgoMtDoRAACOo3dvqWdPc+jmU0+ZlzoAcA0UenBZX30ljRxpbk+fLjVqZGkcAAAcjs0mvfeeeWlDYqL08MPmfwE4Pwo9uKR9+6Snnza3+/Y1J2ABAADZeXmZlzaULWue0evYUUpPtzoVgJtFoQeXk/mN5Jkz5vUHEyZYnQgAAMcWGGjOxOnjIy1fLr36qtWJANwsCj24lIwM80zer7+a30wuXix5elqdCgAAx9eggTRrlrk9Zox5bTsA50WhB5cyapS0bJk5+cqSJVKpUlYnAgDAeXTsKEVFmdtdupiXQgBwThR6cBlLlkijR5vbH3wgNWxobR4AAJzR2LHmpQ9nzkiPPmr+F4DzodCDS9i7V3rmGXO7f/9L2wAAIGc8PaVFi6QyZaRffpGefdZcfgGAc6HQg9NLSpIeeUQ6e1Zq2lR65x2rEwEA4NwCA6XPPjOLvs8+k8aPtzoRgJyi0INTMwypW7dLk68sWsTkKwAA5IbQUGniRHN7yBBp3Tpr8wDIGQo9OLVJky5947h4sVSypNWJAABwHc89J3XqZM5q3b699PffVicCcL0o9OC0vvtOGjTI3J4wQWrc2No8AAC4GptNmjFDqlNHOn5ceuwxKTnZ6lQArgeFHpxSfLz0xBNSerrUoYMUGWl1IgAAXJOfn7mmXkCAtGWLNGCA1YkAXA8KPTidtDTpySelo0el4GBzKQWbzepUAAC4rttukz755NIZvrlzrU4E4L9Q6MHpDBsmrV8vFS4sff65+V8AAJC32rSRRowwt3v3lrZvtzYPgGuj0INTWbpUeustc/vDD6Vq1SyNAwBAgfLqq1JEhHmd3mOPSYmJVicCcDUUenAav/0mde5sbg8cKD3+uLV5AAAoaNzcpI8+kipUkP74w1ziiMXUAcdEoQencP681K6duTj63XdfOqsHAADyV/Hil9at/fxz6b33rE4E4Eoo9ODwDEPq00fauVMqVYpF0QEAsFqjRtI775jbL74o/fijtXkAZEehB4f34YfmMBE3N2nhQqlMGasTAQCAfv3M0TapqeaSR6dOWZ0IwOUsLfTGjBmjO++8U0WKFFGpUqXUtm1b7d+/P0ubixcvKjIyUiVKlFDhwoXVrl07xcfHZ2lz+PBhRUREyM/PT6VKldKgQYOUlpaWpc369etVv359eXt7q3Llypp7hXmBp06dqooVK8rHx0chISH6ka+nLLd7t/k/Ekl6/XWpaVNL4wAAgP9ns0mzZ0u33y4dOmReR5+RYXUqAJksLfQ2bNigyMhI/fDDD4qOjlZqaqpatmypc+fO2dsMHDhQX3/9tRYvXqwNGzboyJEjevTRR+3H09PTFRERoZSUFG3evFnz5s3T3LlzNXz4cHubgwcPKiIiQs2aNdOOHTs0YMAAde/eXatWrbK3WbhwoaKiojRixAht27ZNderUUXh4uI4dO5Y/bwayOXfO/IbwwgWpVStpyBCrEwEAgMsVLSotXix5e0vLlknjx1udCICd4UCOHTtmSDI2bNhgGIZhJCQkGJ6ensbixYvtbX755RdDkhETE2MYhmGsWLHCcHNzM+Li4uxtpk+fbvj7+xvJycmGYRjG4MGDjRo1amR5rfbt2xvh4eH2+40aNTIiIyPt99PT040yZcoYY8aMua7siYmJhiTjxIkTOfypcTWdOxuGZBhlyhjGsWN59zopKSnG0qVLjZSUlLx7EeQJ+s450W/Oi75zXnnddzNmmP/Pdnc3jO++y5OXKJD4zDmvEydOGJKMxMREyzJ4WFtmZpX4/4uxFC9eXJIUGxur1NRUhYWF2dtUq1ZN5cuXV0xMjBo3bqyYmBjVqlVLgYGB9jbh4eHq06eP9uzZo3r16ikmJibLc2S2GTBggCQpJSVFsbGxGjp0qP24m5ubwsLCFBMTc8WsycnJSk5Ott9PSkqSJKWmpio1NfUm3gVI0kcf2TRvnofc3Az973/pCggwlFdva2Z/0W/Oh75zTvSb86LvnFde913XrtL69e5asMBN7dsb+vHHNJUsmScvVaDwmXNejtBnDlPoZWRkaMCAAbr77rtVs2ZNSVJcXJy8vLwUEBCQpW1gYKDi4uLsbS4v8jKPZx67VpukpCRduHBBp0+fVnp6+hXb7Nu374p5x4wZo1GjRmXbv27dOvn5+V3nT40r+euvInrxxXslSU8+uU9nzvyqFSvy/nWjo6Pz/kWQJ+g750S/OS/6znnlZd89/LC7vvvuPv39dxE98MApvfrqD3Jj2r9cwWfO+Zw/f97qCI5T6EVGRmr37t367rvvrI5yXYYOHaqoqCj7/aSkJJUrV07NmjVTiRIlLEzm3M6fl+66y0PJyTbdf3+GZs+uLHf3ynn6mqmpqYqOjlaLFi3kyboNToW+c070m/Oi75xXfvVd1arS3Xcb2r49UDt3PqCXX2Z2lpvBZ855nTx50uoIjlHo9e3bV8uWLdPGjRtVtmxZ+/6goCClpKQoISEhy1m9+Ph4BQUF2dv8e3bMzFk5L2/z75k64+Pj5e/vL19fX7m7u8vd3f2KbTKf49+8vb3l7e2dbb+npycfxJsQFSXt3SsFBUmffOImH5/8+yqQvnNe9J1zot+cF33nvPK67+rVk6ZNM4dyjh7trmbN3HXvvXn2cgUGnznn4wj9ZekJdcMw1LdvXy1ZskRr165VpUqVshxv0KCBPD09tWbNGvu+/fv36/DhwwoNDZUkhYaGateuXVlmx4yOjpa/v7+Cg4PtbS5/jsw2mc/h5eWlBg0aZGmTkZGhNWvW2Nsg7338sblmnpubNH++9K+RtAAAwAl06XJpqYWOHSUHOLEBFEiWFnqRkZH6+OOPNX/+fBUpUkRxcXGKi4vThQsXJElFixZVt27dFBUVpXXr1ik2NlZdu3ZVaGioGjduLElq2bKlgoOD1alTJ/38889atWqVhg0bpsjISPsZt969e+uPP/7Q4MGDtW/fPk2bNk2LFi3SwIED7VmioqI0c+ZMzZs3T7/88ov69Omjc+fOqWvXrvn/xhRA+/ZJvXub28OHS82aWZsHAADcuClTpDvukP7+W+rWTTIMqxMBBY+lQzenT58uSWr6r1Ww58yZoy5dukiSJk6cKDc3N7Vr107JyckKDw/XtGnT7G3d3d21bNky9enTR6GhoSpUqJA6d+6s0aNH29tUqlRJy5cv18CBAzV58mSVLVtWs2bNUnh4uL1N+/btdfz4cQ0fPlxxcXGqW7euVq5cmW2CFuS+CxfM9fLOnZOaN5eGDbM6EQAAuBmFC0sLFkiNG0tffmkO54yMtDoVULBYWugZ1/H1jo+Pj6ZOnaqpU6detU2FChW04j+mZWzatKm2b99+zTZ9+/ZV3759/zMTctfAgdKuXVKpUtInn0ju7lYnAgAAN6tePWncOGnAAOmFF6QmTaQ6daxOBRQcTHoLS33xhfT++5LNZl6jd5W5bwAAgBPq31964AEpOVlq394cvQMgf1DowTJ//SV1725uDx4stWhhbR4AAJC7bDZpzhypTBlp/36z8AOQPyj0YIn0dOnpp6XTp6U775Ree83qRAAAIC/ccot5aYbNZs6u/emnVicCCgYKPVhizBhp40bzYu358yUHWGoEAADkkaZNL0221quX9PvvlsYBCgQKPeS7mBhp5Ehze+pUqXJlS+MAAIB8MHy4OSHLmTNShw5SSorViQDXRqGHfJWYKD31lDl086mnpE6drE4EAADyg4eHOYSzWDHpp59YTgnIaxR6yDeGYS6K/uefUqVK0vTp5nh9AABQMJQvL82ebW6//ba0apW1eQBXRqGHfPPRR+biqe7u5nV5/v5WJwIAAPntkUek554zt7t0kY4ftzQO4LIo9JAvDhyQIiPN7VGjpMaNrc0DAACs8847UnCwFBdnLrVkGFYnAlwPhR7yXEqKedH1uXPmrFsvvWR1IgAAYCVfX/N6PU9P6auvpJkzrU4EuB4KPeS5YcOk2FipeHHpf/8zh24CAICCrW5d6c03ze2BA6Vff7U0DuByKPSQp9asMS+2lsyLr8uWtTYPAABwHFFRUvPm0vnzUseOUmqq1YkA10Ghhzxz+rTUubO53bOn1LatpXEAAICDcXOT5s0zl1zYuvXSOrsAbh6FHvLMc89J//wjVakiTZhgdRoAAOCIypaV3n/f3B4zRtq0ydo8gKug0EOemD//0lIKH38sFSpkdSIAAOCoHn/cXGrBMKROnaTERKsTAc6PQg+57vDhS+vjvPqq1KiRtXkAAIDje/dd6bbbpEOHLi3JBODGUeghV2VkmN/IJSZKISHSK69YnQgAADiDIkXMUUDu7ubSC/PnW50IcG4UeshVEydK69ZJfn7mUgoeHlYnAgAAziI01FyWSZL69DHP7gG4MRR6yDW7dkkvv2xuT5xoTsICAACQE8OGSY0bS0lJ5vV66elWJwKcE4UeckVysrn+TUqK9MADUo8eVicCAADOyMPDHMJZuLA5A+fEiVYnApwThR5yxbBh5hm9kiWlWbMkm83qRAAAwFndfvulAu+VV6Tdu63NAzgjCj3ctPXrpfHjze1Zs6TAQEvjAAAAF9CtmxQRYY4WeuYZ878Arh+FHm5KQoL5y9cwpO7dpYcesjoRAABwBTabNHOmVLy4tH279NprVicCnAuFHm5Kv37SX39lHWIBAACQG0qXlmbMMLfHjJG2bLE2D+BMKPRww5YsMS+WdnMzl1IoXNjqRAAAwNU8/rjUoYM5++Yzz0jnz1udCHAOFHq4IcePS716mduDB5vr3gAAAOSFKVPMs3u//ioNHWp1GsA5UOghxwzDXMT0+HGpZk1p5EirEwEAAFdWvLj04Yfm9rvvSmvXWpsHcAYUesixBQukzz8317n56CPJ29vqRAAAwNW1anVpNFGXLlJioqVxAIdHoYccOXpUiow0t4cNk+rVszYPAAAoON55R7rtNnMiuAEDrE4DODYKPVw3w5B69pROn5bq15deftnqRAAAoCApXFiaN89cemHuXOnLL61OBDguCj1ct7lzpWXLJC8vc8imp6fViQAAQEHTpIk0aJC53aOHdOyYtXkAR0Whh+ty+RCJ0aOlGjUsjQMAAAqw0aPNCeGOHzcniDMMqxMBjodCD//JMKRu3aSkJKlxY+nFF61OBAAACjJvb3N0kYeH9MUX0uLFVicCHA+FHv7T++9L0dGSr685Lt7d3epEAACgoKtX79J8AZGRDOEE/o1CD9f0xx+XzuCNGSPdcYe1eQAAADK98opUq5Z04oTUt6/VaQDHQqGHq8rIkLp2lc6dk+67T+rXz+pEAAAAl3h5mZPFububwzcZwglcQqGHq5oyRdq40ZzKeM4cyY1/LQAAwMHUry8NHWpuR0aaE7QAoNDDVfzxx6Vfmm+/LVWqZG0eAACAqxk27NIsnIxAAkwUesjGMKTu3aXz56VmzcxF0gEAAByVt7c5+sjdXVq4UPr8c6sTAdaj0EM2M2dK69ZJfn7mNkM2AQCAo2vYUBoyxNx+7jlzghagIONPeGTx11+XZtl8803p9tutzQMAAHC9hg+XgoPNpRb697c6DWAtCj3YGYY5TPPMGemuu5imGAAAOBdvb3MWTjc36dNPpSVLrE4EWIdCD3YffSStXGn+kpw9m4XRAQCA87nzTmnwYHO7Tx/p5Elr8wBWodCDJOnoUWnAAHN71CipWjVL4wAAANywkSPNIZzx8QzhRMFFoQcZhvmNV0KC1KCB9MILVicCAAC4cZmzcLq5SfPnS19/bXUiIP9R6EGLFklffil5epq/FD08rE4EAABwcxo1kqKizO0+faTERGvzAPmNQq+AO3780qQrr7wi1aplbR4AAIDcMmqUOYP4P/9IL71kdRogf1HoFXD9+5vrzNSqJQ0danUaAACA3JO5JrAkzZghbdxobR4gP1HoFWBLl0oLFpiza86ZI3l5WZ0IAAAgdzVrJnXvbm736CFdvGhtHiC/UOgVUAkJ5nh1SRo0yJyEBQAAwBW9/bZUurT066/S6NFWpwHyB4VeATVkiBQXJ91xhzRihNVpAAAA8k5AgDR1qrk9bpy0Y4eVaYD8QaFXAG3YIH3wgbk9c6bk42NtHgAAgLz2yCNSu3ZSero5lDMtzepEQN6i0CtgLl6UevY0t3v0kO6919o8AAAA+WXKFPPsXmysNGmS1WmAvEWhV8C88YY5Pj0oyBy6AAAAUFAEBUnjx5vbw4dLv/9ubR4gL1HoFSC7d0tjx5rb771nfqMFAABQkHTtKt1/v3ThgjnKyTCsTgTkDUsLvY0bN+rBBx9UmTJlZLPZtHTp0izHDcPQ8OHDVbp0afn6+iosLEwHDhzI0ubUqVPq2LGj/P39FRAQoG7duuns2bNZ2uzcuVP33HOPfHx8VK5cOY27wqmsxYsXq1q1avLx8VGtWrW0YsWKXP95rZSebg7VTEuTHn7YHKMOAABQ0Nhs5lwFvr7S2rXShx9anQjIG5YWeufOnVOdOnU0NXMapH8ZN26c3n33Xc2YMUNbtmxRoUKFFB4erouXLYDSsWNH7dmzR9HR0Vq2bJk2btyonpkXoUlKSkpSy5YtVaFCBcXGxurtt9/WyJEj9UHmbCSSNm/erA4dOqhbt27avn272rZtq7Zt22r37t1598Pns+nTpR9+kIoUMWedstmsTgQAAGCN226TXnvN3H7hBenoUWvzAHnB0kKvdevWev311/XII49kO2YYhiZNmqRhw4bp4YcfVu3atfXRRx/pyJEj9jN/v/zyi1auXKlZs2YpJCRETZo00XvvvacFCxboyJEjkqRPPvlEKSkp+vDDD1WjRg09+eST6t+/vyZMmGB/rcmTJ6tVq1YaNGiQqlevrtdee03169fXlClT8uV9yGt//SUNHWpujx0r3XqrtXkAAACs9vzzUsOGUmKi1K+f1WmA3OdhdYCrOXjwoOLi4hQWFmbfV7RoUYWEhCgmJkZPPvmkYmJiFBAQoIYNG9rbhIWFyc3NTVu2bNEjjzyimJgY3XvvvfLy8rK3CQ8P11tvvaXTp0+rWLFiiomJUVRUVJbXDw8PzzaU9HLJyclKTk62309KSpIkpaamKjU19WZ//FxjGFLv3u46e9ZNoaEZ6tYtXQ4UzyFk9pcj9RuuD33nnOg350XfOS/67spmzJBCQjz0+ec2LVmSpgcecKwL9ug35+UIfeawhV5cXJwkKTAwMMv+wMBA+7G4uDiVKlUqy3EPDw8VL148S5tKlSple47MY8WKFVNcXNw1X+dKxowZo1GjRmXbv27dOvn5+V3Pj5gvvvuujFasuFMeHhl66qn1WrnyjNWRHFZ0dLTVEXCD6DvnRL85L/rOedF32T30ULCWLKmiXr1S9O67a+Xrm251pGzoN+dz/vx5qyM4bqHn6IYOHZrlLGBSUpLKlSunZs2aqUSJEhYmu+T0aalXL7OLhwwx1KvXPRYnckypqamKjo5WixYt5OnpaXUc5AB955zoN+dF3zkv+u7qmjaVtm839OefftqypbXGjcuwOpId/ea8Tp48aXUExy30goKCJEnx8fEqXbq0fX98fLzq1q1rb3Ps2LEsj0tLS9OpU6fsjw8KClJ8fHyWNpn3/6tN5vEr8fb2lre3d7b9np6eDvNBfPllKT5eqlZNevVVd3l6ulsdyaE5Ut8hZ+g750S/OS/6znnRd9kVLSpNmya1aSO9+667nnnGXfXqWZ0qK/rN+ThCfznsOnqVKlVSUFCQ1qxZY9+XlJSkLVu2KDQ0VJIUGhqqhIQExcbG2tusXbtWGRkZCgkJsbfZuHFjlnGy0dHRqlq1qooVK2Zvc/nrZLbJfB1ntH69NHu2uT1zpnSFmhQAAACSWreW2reXMjLMtfXSHW/0JpBjlhZ6Z8+e1Y4dO7Rjxw5J5gQsO3bs0OHDh2Wz2TRgwAC9/vrr+uqrr7Rr1y4988wzKlOmjNq2bStJql69ulq1aqUePXroxx9/1Pfff6++ffvqySefVJkyZSRJTz31lLy8vNStWzft2bNHCxcu1OTJk7MMu3z++ee1cuVKjR8/Xvv27dPIkSO1detW9e3bN7/fklyRnCz17m1u9+olNWlibR4AAABHN2mSeXZv61bzDB/g7Cwt9LZu3ap69eqp3v+fH4+KilK9evU0fPhwSdLgwYPVr18/9ezZU3feeafOnj2rlStXysfHx/4cn3zyiapVq6b7779fbdq0UZMmTbKskVe0aFF9++23OnjwoBo0aKAXXnhBw4cPz7LW3l133aX58+frgw8+UJ06dfTZZ59p6dKlqlmzZj69E7lr3Dhp/34pMNBcTgEAAADXFhQkvfWWuf3yy9Lff1ubB7hZll6j17RpUxnG1aextdlsGj16tEaPHn3VNsWLF9f8+fOv+Tq1a9fWpk2brtnm8ccf1+OPP37twE7gt9+kN94wtydOlAICLI0DAADgNHr0kObNk2JipP79pS++sDoRcOMc9ho95JxhSJGR5tDNsDDpySetTgQAAOA83NykDz6QPDykJUukL7+0OhFw4yj0XMjChdK335oTr0ybJtlsVicCAABwLjVrSoMGmdt9+0pnWIIYTopCz0UkJEgDB5rbL78sValiaRwAAACnNWyYdNtt5nV6/z91BOB0KPRcxCuvSHFx0h13SEOGWJ0GAADAefn5SdOnm9vvvitdtpIX4DQo9FzAjz9e+mU0YwZr5gEAANysli2lp566tLZeWprViYCcodBzcmlp5lp5hiF16iQ1a2Z1IgAAANcwYYI5g/m2bZe+VAecBYWek5syRdqxQypWTHrnHavTAAAAuI7L1yQeNkw6etTaPEBOUOg5sb//ll591dx+6y2pVClr8wAAALia7t2lRo2kpCTpxRetTgNcPwo9J/b889LZs9Jdd0ndulmdBgAAwPW4u5vLVrm5SfPnS+vWWZ0IuD4Uek5q2TLpiy/MBT1nzDB/+QAAACD3NWgg9eljbj/3nJSSYm0e4HpQHjih8+fNBTwlKSpKqlXL2jwAAACu7vXXzctk9u0zJ2kBHB2FnhMaM0Y6dEgqX55FPAEAAPJDQIA0fry5PXq0+bcY4Mgo9JzMgQPSuHHm9qRJUqFClsYBAAAoMDp2lO67T7pwwZwrAXBkFHpOxDCkfv3MceGtWklt21qdCAAAoOCw2cyJWTw8pC+/lL7+2upEwNVR6DmRpUulVaskLy/p3XfNXzYAAADIP8HB5hwJktS/vzl3AuCIKPScxLlz0oAB5vbgwVKVKpbGAQAAKLBefVUqV07680/pzTetTgNcGYWek3jzTenwYalCBWnoUKvTAAAAFFyFC0uTJ5vbb78t7d9vbR7gSij0nMCvv5q/RCRzAhY/P0vjAAAAFHht20pt2phzJ/Tta86lADgSCj0HlzkBS2qq1Lq19PDDVicCAACAzWbOmeDtLa1eLS1caHUiICsKPQf3xRfSt98yAQsAAICjuf126eWXze0XXpDOnrU2D3A5Cj0Hdu6cNHCguT1kiFS5srV5AAAAkNXgwdJtt0lHjkivv251GuASCj0H9sYb0l9/SRUrSi+9ZHUaAAAA/JuPjzmHgiRNmMDELHAcFHoOav9+6Z13zO3Jk5mABQAAwFE98IA5l0JqqrkcFhOzwBFQ6DmgyydgiYiQHnzQ6kQAAAC4GpvN/GLey0tauVL6+murEwEUeg7p88+l6GhzFqfJk5mABQAAwNFVqSJFRZnbAwZIFy5YGgeg0HM0Z89mnYDl9tutzQMAAIDr88or0q23SgcPXroEB7AKhZ6DGTNG+vtvJmABAABwNoULXyrw3nxTOnTI2jwo2Cj0HMjvv1/65TBxouTra20eAAAA5Ez79tJ990kXL5pr6wFWodBzIC+8IKWkSC1aSA8/bHUaAAAA5JTNJr37ruTubs67sHq11YlQUFHoOYhvv5W+/NL8pTBpEhOwAAAAOKvataXnnjO3+/c3Z1IH8huFngPIXHNFMpdVCA62NA4AAABu0qhR0i23SL/8Ir33ntVpUBBR6DmAqVPNXwIlS0ojRlidBgAAADerWDFp7Fhze+RIKS7O0jgogCj0LHbs2KXi7s03pYAAS+MAAAAgl3TtKt15p3TmjLlsFpCfKPQs9sorUlKSVL+++csAAAAArsHNTZoyxdz+6CNp82Zr86BgodCzUGysNHu2uZ05OxMAAABcR6NG0rPPmtt9+0rp6dbmQcFBoWcRwzBnYTIMqWNH6e67rU4EAACAvDBmjFS0qLR9uzRnjtVpUFBQ6Flk/nzz9H2hQtJbb1mdBgAAAHmlVClp+HBzO/OyHSCvUehZ4OxZafBgc/uVV6Rbb7U2DwAAAPJW377SHXeYE/G9/rrVaVAQUOhZ4M03pSNHpNtukwYOtDoNAAAA8pqXlzR+vLk9aZL022+WxkEBQKGXz3777dKHfOJEycfH2jwAAADIHxERUsuWUmqq9OKLVqeBq6PQy2cvvCClpJgf8gcftDoNAAAA8ovNZn7R7+4uffmltGaN1Yngyij08tGqVdJXX0keHuYpe5vN6kQAAADIT8HBUp8+5vaAAVJamqVx4MIo9PJJWpoUFWVu9+snVa9ubR4AAABYY+RIqVgxafduaeZMq9PAVVHo5ZMPPpD27pVKlLg0vS4AAAAKnhIlpFGjzO1XX5VOn7Y2D1wThV4+OH36UnE3erQUEGBpHAAAAFisd29zhNfJk+bfh0Buo9DLB6+/bn6Ig4Olnj2tTgMAAACreXqaE7NI0pQp0r591uaB66HQy2MHDkjvvWdujx9vTsQCAAAAhIebSy6kpZkzswO5iUIvjw0ebK6V0qqVeQMAAAAyZZ4IWLFCWrnS6jRwJRR6eWjdOmnpUnOtlMxF0gEAAIBMVauaM7JL0sCB5gkCIDdQ6OWR9HTzwyqZF9sGB1ubBwAAAI5p+HDpllvM6/SmT7c6DVwFhV4emTtX+vlnqWhRc60UAAAA4EoCAqTXXjO3R4wwJ/EDbhaFXh44c0Z65RVzO/MbGgAAAOBquneXatWSEhIurbEH3AwKvTwwdqwUHy9Vriz17Wt1GgAAADg6Dw9pwgRze/p06ddfrc0D50ehl8sOH7408co770heXtbmAQAAgHMIC5PatDGXWxgyxOo0cHYUernstdfclZwsNWsmPfSQ1WkAAADgTN5+25yxfelSaeNGm9Vx4MQo9P5l6tSpqlixonx8fBQSEqIff/wxR49fssRNNpt56t3GZxMAAAA5EBws9ehhbg8e7KaMDGvzwHlR6F1m4cKFioqK0ogRI7Rt2zbVqVNH4eHhOnbsWI6e59lnpbp18yYjAAAAXNuoUVKRItK2bW7auLGs1XHgpCj0LjNhwgT16NFDXbt2VXBwsGbMmCE/Pz99+OGH1/0chQoZev31PAwJAAAAl1aqlDR0qLn98cfVdeGCtXngnDysDuAoUlJSFBsbq6GZnypJbm5uCgsLU0xMTLb2ycnJSk5Ott9PTEyUJPXseUqenmmsf+JEUlNTdf78eZ08eVKenp5Wx0EO0HfOiX5zXvSd86LvnE+nTtLUqe765x83jRlzXi++yDVBzuTUqVOSJMMwLMtAoff/Tpw4ofT0dAUGBmbZHxgYqH379mVrP2bMGI26wiInEyfepokT8ywmAAAACpixY80bnM/JkydVtGhRS16bQu8GDR06VFFRUfb7CQkJqlChgg4fPmxZZ+LGJCUlqVy5cvrrr7/k7+9vdRzkAH3nnOg350XfOS/6zjnRb84rMTFR5cuXV/HixS3LQKH3/2655Ra5u7srPj4+y/74+HgFBQVla+/t7S1vb+9s+4sWLcoH0Un5+/vTd06KvnNO9Jvzou+cF33nnOg35+XmZt2UKEzG8v+8vLzUoEEDrVmzxr4vIyNDa9asUWhoqIXJAAAAACBnOKN3maioKHXu3FkNGzZUo0aNNGnSJJ07d05du3a1OhoAAAAAXDcKvcu0b99ex48f1/DhwxUXF6e6detq5cqV2SZouRJvb2+NGDHiisM54djoO+dF3zkn+s150XfOi75zTvSb83KEvrMZVs75CQAAAADIdVyjBwAAAAAuhkIPAAAAAFwMhR4AAAAAuBgKPQAAAABwMRR6uWTq1KmqWLGifHx8FBISoh9//NHqSC5r48aNevDBB1WmTBnZbDYtXbo0y3HDMDR8+HCVLl1avr6+CgsL04EDB7K0OXXqlDp27Ch/f38FBASoW7duOnv2bJY2O3fu1D333CMfHx+VK1dO48aNy5Zl8eLFqlatmnx8fFSrVi2tWLEi139eVzJmzBjdeeedKlKkiEqVKqW2bdtq//79WdpcvHhRkZGRKlGihAoXLqx27dopPj4+S5vDhw8rIiJCfn5+KlWqlAYNGqS0tLQsbdavX6/69evL29tblStX1ty5c7Pl4XN7faZPn67atWvbF+wNDQ3VN998Yz9OnzmPsWPHymazacCAAfZ99J9jGjlypGw2W5ZbtWrV7MfpN8f2zz//6Omnn1aJEiXk6+urWrVqaevWrfbj/K3ieCpWrJjtM2ez2RQZGSnJST9zBm7aggULDC8vL+PDDz809uzZY/To0cMICAgw4uPjrY7mklasWGG88sorxhdffGFIMpYsWZLl+NixY42iRYsaS5cuNX7++WfjoYceMipVqmRcuHDB3qZVq1ZGnTp1jB9++MHYtGmTUblyZaNDhw7244mJiUZgYKDRsWNHY/fu3cann35q+Pr6Gu+//769zffff2+4u7sb48aNM/bu3WsMGzbM8PT0NHbt2pXn74GzCg8PN+bMmWPs3r3b2LFjh9GmTRujfPnyxtmzZ+1tevfubZQrV85Ys2aNsXXrVqNx48bGXXfdZT+elpZm1KxZ0wgLCzO2b99urFixwrjllluMoUOH2tv88ccfhp+fnxEVFWXs3bvXeO+99wx3d3dj5cqV9jZ8bq/fV199ZSxfvtz49ddfjf379xsvv/yy4enpaezevdswDPrMWfz4449GxYoVjdq1axvPP/+8fT/955hGjBhh1KhRwzh69Kj9dvz4cftx+s1xnTp1yqhQoYLRpUsXY8uWLcYff/xhrFq1yvjtt9/sbfhbxfEcO3Ysy+ctOjrakGSsW7fOMAzn/MxR6OWCRo0aGZGRkfb76enpRpkyZYwxY8ZYmKpg+Hehl5GRYQQFBRlvv/22fV9CQoLh7e1tfPrpp4ZhGMbevXsNScZPP/1kb/PNN98YNpvN+OeffwzDMIxp06YZxYoVM5KTk+1thgwZYlStWtV+/4knnjAiIiKy5AkJCTF69eqVqz+jKzt27JghydiwYYNhGGZfeXp6GosXL7a3+eWXXwxJRkxMjGEYZqHv5uZmxMXF2dtMnz7d8Pf3t/fX4MGDjRo1amR5rfbt2xvh4eH2+3xub06xYsWMWbNm0WdO4syZM0aVKlWM6Oho47777rMXevSf4xoxYoRRp06dKx6j3xzbkCFDjCZNmlz1OH+rOIfnn3/euP32242MjAyn/cwxdPMmpaSkKDY2VmFhYfZ9bm5uCgsLU0xMjIXJCqaDBw8qLi4uS38ULVpUISEh9v6IiYlRQECAGjZsaG8TFhYmNzc3bdmyxd7m3nvvlZeXl71NeHi49u/fr9OnT9vbXP46mW3o9+uXmJgoSSpevLgkKTY2VqmpqVne12rVqql8+fJZ+q9WrVoKDAy0twkPD1dSUpL27Nljb3OtvuFze+PS09O1YMECnTt3TqGhofSZk4iMjFRERES295j+c2wHDhxQmTJldNttt6ljx446fPiwJPrN0X311Vdq2LChHn/8cZUqVUr16tXTzJkz7cf5W8XxpaSk6OOPP9azzz4rm83mtJ85Cr2bdOLECaWnp2fpVEkKDAxUXFycRakKrsz3/Fr9ERcXp1KlSmU57uHhoeLFi2dpc6XnuPw1rtaGfr8+GRkZGjBggO6++27VrFlTkvmeenl5KSAgIEvbf/ffjfZNUlKSLly4wOf2BuzatUuFCxeWt7e3evfurSVLlig4OJg+cwILFizQtm3bNGbMmGzH6D/HFRISorlz52rlypWaPn26Dh48qHvuuUdnzpyh3xzcH3/8oenTp6tKlSpatWqV+vTpo/79+2vevHmS+FvFGSxdulQJCQnq0qWLJOf9XemR40cAQC6IjIzU7t279d1331kdBdehatWq2rFjhxITE/XZZ5+pc+fO2rBhg9Wx8B/++usvPf/884qOjpaPj4/VcZADrVu3tm/Xrl1bISEhqlChghYtWiRfX18Lk+G/ZGRkqGHDhnrzzTclSfXq1dPu3bs1Y8YMde7c2eJ0uB6zZ89W69atVaZMGauj3BTO6N2kW265Re7u7tlm3YmPj1dQUJBFqQquzPf8Wv0RFBSkY8eOZTmelpamU6dOZWlzpee4/DWu1oZ+/299+/bVsmXLtG7dOpUtW9a+PygoSCkpKUpISMjS/t/9d6N94+/vL19fXz63N8DLy0uVK1dWgwYNNGbMGNWpU0eTJ0+mzxxcbGysjh07pvr168vDw0MeHh7asGGD3n33XXl4eCgwMJD+cxIBAQG644479Ntvv/G5c3ClS5dWcHBwln3Vq1e3D73lbxXHdujQIa1evVrdu3e373PWzxyF3k3y8vJSgwYNtGbNGvu+jIwMrVmzRqGhoRYmK5gqVaqkoKCgLP2RlJSkLVu22PsjNDRUCQkJio2NtbdZu3atMjIyFBISYm+zceNGpaam2tv8X3v3F1rzH8dx/H1yfE++abbarLWcofwLmUiNlTgiuRClpeXvhUzkYmSFuKBcyAUpf2IuqOVGErFpOyvEmZydHcwmHaSUUjRNYl6/Czn5/rZf/Np+v3P2Pc9HnVrn++mc99m7T+f76nvO+zQ1NdmUKVOsoKAgvebX5/m5hr7/M0m2fft2u3LlijU3N9uECRM8x+fMmWMjR470/F+7urrs9evXnv4lk0nPG2BTU5Pl5eWl31h/1xv27eB9//7dvnz5Qs+yXCQSsWQyae3t7enb3Llzrbq6Ov03/RsePn36ZC9evLCSkhL2XZZbsGBBv58O6u7utrKyMjPjXCXb1dfX29ixY23FihXp+4btnvvX41vQT0NDg0KhkC5cuKCnT59qy5Ytys/P90zdwdDp6elRPB5XPB6XmenYsWOKx+N69eqVpB8ji/Pz83X16lV1dHRo5cqVA44snj17th48eKA7d+5o0qRJnpHFHz58UHFxsdatW6fHjx+roaFBruv2G1kcDAZ19OhRdXZ26sCBA4ws/o2amhqNGTNG0WjUM8K4t7c3vWbr1q0Kh8Nqbm7Ww4cPVVFRoYqKivTxn+OLly5dqvb2dt28eVNFRUUDji/evXu3Ojs7dfLkyQHHF7Nv/0xdXZ1aW1uVSqXU0dGhuro6BQIBNTY2SqJnw82vUzcl+petamtrFY1GlUqldPfuXS1ZskSFhYV69+6dJPqWzWKxmILBoA4fPqznz5/r0qVLcl1XFy9eTK/hXCU79fX1KRwOa8+ePf2ODcc9R9AbIidOnFA4HJbjOJo3b57u37+f6ZJ8q6WlRWbW77ZhwwZJP8YW79+/X8XFxQqFQopEIurq6vI8xvv377V27VqNHj1aeXl52rRpk3p6ejxrEomEKisrFQqFVFpaqiNHjvSr5fLly5o8ebIcx9H06dN1/fr1/+x1+8FAfTMz1dfXp9d8/vxZ27ZtU0FBgVzX1apVq/T27VvP47x8+VLLly/XqFGjVFhYqNraWn39+tWzpqWlReXl5XIcRxMnTvQ8x0/s2z+zefNmlZWVyXEcFRUVKRKJpEOeRM+Gm78HPfqXnaqqqlRSUiLHcVRaWqqqqirP77DRt+x27do1zZgxQ6FQSFOnTtWZM2c8xzlXyU63bt2SmfXrhTQ891xAkv79dUAAAAAAQLbiO3oAAAAA4DMEPQAAAADwGYIeAAAAAPgMQQ8AAAAAfIagBwAAAAA+Q9ADAAAAAJ8h6AEAAACAzxD0AAAAAMBnCHoAAAAA4DMEPQAABqGvr8/mz59vq1ev9tz/8eNHGzdunO3duzdDlQEAcllAkjJdBAAAw1l3d7eVl5fb2bNnrbq62szM1q9fb4lEwtra2sxxnAxXCADINQQ9AACGwPHjx+3gwYP25MkTi8VitmbNGmtra7NZs2ZlujQAQA4i6AEAMAQk2eLFi23EiBGWTCZtx44dtm/fvkyXBQDIUQQ9AACGyLNnz2zatGk2c+ZMe/TokQWDwUyXBADIUQxjAQBgiJw/f95c17VUKmVv3rzJdDkAgBzGFT0AAIbAvXv3bOHChdbY2GiHDh0yM7Pbt29bIBDIcGUAgFzEFT0AAAapt7fXNm7caDU1NbZo0SI7d+6cxWIxO3XqVKZLAwDkKK7oAQAwSDt37rQbN25YIpEw13XNzOz06dO2a9cuSyaTNn78+MwWCADIOQQ9AAAGobW11SKRiEWjUausrPQcW7ZsmX379o2PcAIA/ncEPQAAAADwGb6jBwAAAAA+Q9ADAAAAAJ8h6AEAAACAzxD0AAAAAMBnCHoAAAAA4DMEPQAAAADwGYIeAAAAAPgMQQ8AAAAAfIagBwAAAAA+Q9ADAAAAAJ8h6AEAAACAz/wFhVbcdmjxvkEAAAAASUVORK5CYII=\n",
         "text/plain": "<Figure size 1000x600 with 1 Axes>"
        },
        "metadata": {},
        "output_type": "display_data"
       }
      ]
     }
    },
    "6f6d6ffbf91f496b879f4b0a160f35d7": {
     "model_module": "@jupyter-widgets/base",
     "model_module_version": "1.2.0",
     "model_name": "LayoutModel",
     "state": {
      "_model_module": "@jupyter-widgets/base",
      "_model_module_version": "1.2.0",
      "_model_name": "LayoutModel",
      "_view_count": null,
      "_view_module": "@jupyter-widgets/base",
      "_view_module_version": "1.2.0",
      "_view_name": "LayoutView",
      "align_content": null,
      "align_items": null,
      "align_self": null,
      "border": null,
      "bottom": null,
      "display": null,
      "flex": null,
      "flex_flow": null,
      "grid_area": null,
      "grid_auto_columns": null,
      "grid_auto_flow": null,
      "grid_auto_rows": null,
      "grid_column": null,
      "grid_gap": null,
      "grid_row": null,
      "grid_template_areas": null,
      "grid_template_columns": null,
      "grid_template_rows": null,
      "height": null,
      "justify_content": null,
      "justify_items": null,
      "left": null,
      "margin": null,
      "max_height": null,
      "max_width": null,
      "min_height": null,
      "min_width": null,
      "object_fit": null,
      "object_position": null,
      "order": null,
      "overflow": null,
      "overflow_x": null,
      "overflow_y": null,
      "padding": null,
      "right": null,
      "top": null,
      "visibility": null,
      "width": null
     }
    },
    "7cfc2dbed59c44d89614030abde1fe0e": {
     "model_module": "@jupyter-widgets/controls",
     "model_module_version": "1.5.0",
     "model_name": "VBoxModel",
     "state": {
      "_dom_classes": [
       "widget-interact"
      ],
      "_model_module": "@jupyter-widgets/controls",
      "_model_module_version": "1.5.0",
      "_model_name": "VBoxModel",
      "_view_count": null,
      "_view_module": "@jupyter-widgets/controls",
      "_view_module_version": "1.5.0",
      "_view_name": "VBoxView",
      "box_style": "",
      "children": [
       "IPY_MODEL_a308a310ff2c48e3bdd71f1c3280317a",
       "IPY_MODEL_1f7719641fb84660991d47e3e8aa3aca"
      ],
      "layout": "IPY_MODEL_6f6d6ffbf91f496b879f4b0a160f35d7"
     }
    },
    "a308a310ff2c48e3bdd71f1c3280317a": {
     "model_module": "@jupyter-widgets/controls",
     "model_module_version": "1.5.0",
     "model_name": "IntSliderModel",
     "state": {
      "_dom_classes": [],
      "_model_module": "@jupyter-widgets/controls",
      "_model_module_version": "1.5.0",
      "_model_name": "IntSliderModel",
      "_view_count": null,
      "_view_module": "@jupyter-widgets/controls",
      "_view_module_version": "1.5.0",
      "_view_name": "IntSliderView",
      "continuous_update": true,
      "description": "scale",
      "description_tooltip": null,
      "disabled": false,
      "layout": "IPY_MODEL_0c4a090c9b674595ae57051ac4ee7386",
      "max": 70000,
      "min": 0,
      "orientation": "horizontal",
      "readout": true,
      "readout_format": "d",
      "step": 1000,
      "style": "IPY_MODEL_a5c4825df7a64d55a07a94070a3acbf2",
      "value": 51000
     }
    },
    "a5c4825df7a64d55a07a94070a3acbf2": {
     "model_module": "@jupyter-widgets/controls",
     "model_module_version": "1.5.0",
     "model_name": "SliderStyleModel",
     "state": {
      "_model_module": "@jupyter-widgets/controls",
      "_model_module_version": "1.5.0",
      "_model_name": "SliderStyleModel",
      "_view_count": null,
      "_view_module": "@jupyter-widgets/base",
      "_view_module_version": "1.2.0",
      "_view_name": "StyleView",
      "description_width": "",
      "handle_color": null
     }
    },
    "ef3f6e1baa654e8eb1a7a6d2ed8d66fc": {
     "model_module": "@jupyter-widgets/base",
     "model_module_version": "1.2.0",
     "model_name": "LayoutModel",
     "state": {
      "_model_module": "@jupyter-widgets/base",
      "_model_module_version": "1.2.0",
      "_model_name": "LayoutModel",
      "_view_count": null,
      "_view_module": "@jupyter-widgets/base",
      "_view_module_version": "1.2.0",
      "_view_name": "LayoutView",
      "align_content": null,
      "align_items": null,
      "align_self": null,
      "border": null,
      "bottom": null,
      "display": null,
      "flex": null,
      "flex_flow": null,
      "grid_area": null,
      "grid_auto_columns": null,
      "grid_auto_flow": null,
      "grid_auto_rows": null,
      "grid_column": null,
      "grid_gap": null,
      "grid_row": null,
      "grid_template_areas": null,
      "grid_template_columns": null,
      "grid_template_rows": null,
      "height": null,
      "justify_content": null,
      "justify_items": null,
      "left": null,
      "margin": null,
      "max_height": null,
      "max_width": null,
      "min_height": null,
      "min_width": null,
      "object_fit": null,
      "object_position": null,
      "order": null,
      "overflow": null,
      "overflow_x": null,
      "overflow_y": null,
      "padding": null,
      "right": null,
      "top": null,
      "visibility": null,
      "width": null
     }
    }
   }
  }
 },
 "nbformat": 4,
 "nbformat_minor": 4
}
